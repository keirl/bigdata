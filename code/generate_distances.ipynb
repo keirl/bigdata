{
 "cells": [
  {
   "cell_type": "code",
   "execution_count": 1,
   "metadata": {
    "collapsed": true
   },
   "outputs": [],
   "source": [
    "from pyspark.sql import SparkSession\n",
    "\n",
    "spark = SparkSession \\\n",
    "    .builder \\\n",
    "    .appName(\"Calculate Distances\") \\\n",
    "    .getOrCreate()"
   ]
  },
  {
   "cell_type": "code",
   "execution_count": 2,
   "metadata": {
    "collapsed": true
   },
   "outputs": [],
   "source": [
    "import string\n",
    "PATH_RAWDATA = '../rawdata/'\n",
    "PATH_PROCESSEDDATA = '../processeddata/'"
   ]
  },
  {
   "cell_type": "code",
   "execution_count": 3,
   "metadata": {
    "collapsed": false
   },
   "outputs": [
    {
     "name": "stdout",
     "output_type": "stream",
     "text": [
      "root\n",
      " |-- GEOID: integer (nullable = true)\n",
      " |-- NAME: string (nullable = true)\n",
      " |-- UATYPE: string (nullable = true)\n",
      " |-- POP10: integer (nullable = true)\n",
      " |-- HU10: integer (nullable = true)\n",
      " |-- ALAND: long (nullable = true)\n",
      " |-- AWATER: integer (nullable = true)\n",
      " |-- ALAND_SQMI: double (nullable = true)\n",
      " |-- AWATER_SQMI: double (nullable = true)\n",
      " |-- INTPTLAT: double (nullable = true)\n",
      " |-- INTPTLONG: double (nullable = true)\n",
      "\n",
      "Number of Metro Areas (before filtering): 3592\n",
      "Number of Metro Areas (after filtering): 497\n",
      "+----+--------------------+------+------+------------+-------+-------+---------+----------+-------------------+-------------------+\n",
      "|m_id|                name|UATYPE| m_pop|m_house_unit| m_land|m_water|  m_lat_d|  m_long_d|            m_lat_r|           m_long_r|\n",
      "+----+--------------------+------+------+------------+-------+-------+---------+----------+-------------------+-------------------+\n",
      "| 199|Aberdeen--Bel Air...|     U|213751|       83721|131.131|  3.794|39.508977| -76.30343| 0.6895617327447118|-1.3317460840650168|\n",
      "| 280|Abilene, TX Urban...|     U|110421|       46732| 54.732|  0.382|32.428466|-99.747188| 0.5659835030710355|-1.7409168502057775|\n",
      "| 631|Aguadilla--Isabel...|     U|306196|      138431|239.274|  0.348|18.369286|-67.040259|0.32060452194049904|-1.1700732509397613|\n",
      "| 766|Akron, OH Urbaniz...|     U|569499|      257659|325.377|  6.731|41.066225|-81.491897| 0.7167408376148084|-1.4223019163460895|\n",
      "| 901|Albany, GA Urbani...|     U| 95779|       40430| 70.845|  1.077|31.591097|-84.168827| 0.5513686569669031|-1.4690231586915012|\n",
      "+----+--------------------+------+------+------------+-------+-------+---------+----------+-------------------+-------------------+\n",
      "only showing top 5 rows\n",
      "\n"
     ]
    }
   ],
   "source": [
    "import numpy as np\n",
    "METRO_FN = 'Gaz_ua_national.txt'\n",
    "def deg2rad(deg):\n",
    "    return deg/360*(2*np.pi)\n",
    "MIN_POP = 50000\n",
    "\n",
    "dfMetroAreasRaw = spark.read.load(PATH_RAWDATA+METRO_FN, format=\"csv\", delimiter=\"\\t\", header=True, inferSchema=True)\n",
    "dfMetroAreasRaw = dfMetroAreasRaw.withColumnRenamed(dfMetroAreasRaw.columns[-1],dfMetroAreasRaw.columns[-1].strip(string.whitespace))\n",
    "dfMetroAreasRaw.printSchema()\n",
    "dfMetroAreas = dfMetroAreasRaw.select('GEOID','NAME','UATYPE','POP10','HU10','ALAND_SQMI',\\\n",
    "                                      'AWATER_SQMI','INTPTLAT','INTPTLONG')\\\n",
    "                            .filter(dfMetroAreasRaw.POP10>MIN_POP)\\\n",
    "                            .withColumnRenamed('GEOID','m_id')\\\n",
    "                            .withColumnRenamed('NAME', 'name')\\\n",
    "                            .withColumnRenamed('POP10','m_pop')\\\n",
    "                            .withColumnRenamed('HU10','m_house_unit')\\\n",
    "                            .withColumnRenamed('ALAND_SQMI','m_land')\\\n",
    "                            .withColumnRenamed('AWATER_SQMI','m_water')\\\n",
    "                            .withColumnRenamed('INTPTLAT', 'm_lat_d')\\\n",
    "                            .withColumnRenamed('INTPTLONG', 'm_long_d')\n",
    "\n",
    "dfMetroAreas = dfMetroAreas.withColumn('m_lat_r', deg2rad(dfMetroAreas.m_lat_d)).withColumn('m_long_r', deg2rad(dfMetroAreas.m_long_d))\n",
    "print('Number of Metro Areas (before filtering):', dfMetroAreasRaw.count())\n",
    "print('Number of Metro Areas (after filtering):', dfMetroAreas.count())\n",
    "dfMetroAreas.show(5)"
   ]
  },
  {
   "cell_type": "code",
   "execution_count": 4,
   "metadata": {
    "collapsed": false
   },
   "outputs": [
    {
     "name": "stdout",
     "output_type": "stream",
     "text": [
      "root\n",
      " |-- GEOID: integer (nullable = true)\n",
      " |-- POP10: integer (nullable = true)\n",
      " |-- HU10: integer (nullable = true)\n",
      " |-- ALAND: long (nullable = true)\n",
      " |-- AWATER: long (nullable = true)\n",
      " |-- ALAND_SQMI: double (nullable = true)\n",
      " |-- AWATER_SQMI: double (nullable = true)\n",
      " |-- INTPTLAT: double (nullable = true)\n",
      " |-- INTPTLONG: double (nullable = true)\n",
      "\n",
      "33120\n",
      "root\n",
      " |-- z_id: integer (nullable = true)\n",
      " |-- z_pop: integer (nullable = true)\n",
      " |-- z_house_unit: integer (nullable = true)\n",
      " |-- z_land: double (nullable = true)\n",
      " |-- z_water: double (nullable = true)\n",
      " |-- z_lat_d: double (nullable = true)\n",
      " |-- z_long_d: double (nullable = true)\n",
      " |-- z_lat_r: double (nullable = true)\n",
      " |-- z_long_r: double (nullable = true)\n",
      "\n",
      "+----+-----+------------+------+-------+---------+----------+-------------------+-------------------+\n",
      "|z_id|z_pop|z_house_unit|z_land|z_water|  z_lat_d|  z_long_d|            z_lat_r|           z_long_r|\n",
      "+----+-----+------------+------+-------+---------+----------+-------------------+-------------------+\n",
      "| 601|18570|        7744|64.348|  0.309|18.180555|-66.749961|0.31731054458991764|-1.1650065950278068|\n",
      "| 602|41520|       18073|30.613|  1.717|18.362268| -67.17613| 0.3204820347335941|-1.1724446472477383|\n",
      "| 603|54689|       25653|31.614|  0.071|18.455183|-67.119887| 0.3221037074080847|-1.1714630217165392|\n",
      "| 606| 6615|        2877|42.309|  0.005|18.158345|-66.932911|0.31692290696304976|-1.1681996748943304|\n",
      "| 610|29016|       12618|35.916|  1.611|18.290955|-67.125868| 0.3192373880841194| -1.171567409859101|\n",
      "+----+-----+------------+------+-------+---------+----------+-------------------+-------------------+\n",
      "only showing top 5 rows\n",
      "\n"
     ]
    }
   ],
   "source": [
    "ZCTA_FN = 'Gaz_zcta_national.txt'\n",
    "dfZCTAsRaw = spark.read.load(PATH_RAWDATA+ZCTA_FN, format=\"csv\", delimiter=\"\\t\", header=True, inferSchema=True)\n",
    "dfZCTAsRaw = dfZCTAsRaw.withColumnRenamed(dfZCTAsRaw.columns[-1],dfZCTAsRaw.columns[-1].strip(string.whitespace))\n",
    "dfZCTAsRaw.printSchema()\n",
    "\n",
    "dfZCTAs = dfZCTAsRaw.select('GEOID','POP10','HU10','ALAND_SQMI','AWATER_SQMI','INTPTLAT','INTPTLONG')\\\n",
    "                .withColumnRenamed('GEOID','z_id')\\\n",
    "                .withColumnRenamed('POP10','z_pop')\\\n",
    "                .withColumnRenamed('HU10','z_house_unit')\\\n",
    "                .withColumnRenamed('ALAND_SQMI','z_land')\\\n",
    "                .withColumnRenamed('AWATER_SQMI','z_water')\\\n",
    "                .withColumnRenamed('INTPTLAT', 'z_lat_d')\\\n",
    "                .withColumnRenamed('INTPTLONG', 'z_long_d')\n",
    "\n",
    "dfZCTAs = dfZCTAs.withColumn('z_lat_r', deg2rad(dfZCTAs.z_lat_d)).withColumn('z_long_r', deg2rad(dfZCTAs.z_long_d))\n",
    "print(dfZCTAs.count())\n",
    "dfZCTAs.printSchema()\n",
    "dfZCTAs.show(5)"
   ]
  },
  {
   "cell_type": "code",
   "execution_count": 5,
   "metadata": {
    "collapsed": false
   },
   "outputs": [
    {
     "name": "stdout",
     "output_type": "stream",
     "text": [
      "33120 497 16460640 16460640\n",
      "root\n",
      " |-- z_id: integer (nullable = true)\n",
      " |-- z_pop: integer (nullable = true)\n",
      " |-- z_house_unit: integer (nullable = true)\n",
      " |-- z_land: double (nullable = true)\n",
      " |-- z_water: double (nullable = true)\n",
      " |-- z_lat_d: double (nullable = true)\n",
      " |-- z_long_d: double (nullable = true)\n",
      " |-- z_lat_r: double (nullable = true)\n",
      " |-- z_long_r: double (nullable = true)\n",
      " |-- m_id: integer (nullable = true)\n",
      " |-- name: string (nullable = true)\n",
      " |-- UATYPE: string (nullable = true)\n",
      " |-- m_pop: integer (nullable = true)\n",
      " |-- m_house_unit: integer (nullable = true)\n",
      " |-- m_land: double (nullable = true)\n",
      " |-- m_water: double (nullable = true)\n",
      " |-- m_lat_d: double (nullable = true)\n",
      " |-- m_long_d: double (nullable = true)\n",
      " |-- m_lat_r: double (nullable = true)\n",
      " |-- m_long_r: double (nullable = true)\n",
      "\n",
      "+----+-----+------------+------+-------+---------+----------+-------------------+-------------------+----+--------------------+------+------+------------+-------+-------+---------+----------+-------------------+-------------------+\n",
      "|z_id|z_pop|z_house_unit|z_land|z_water|  z_lat_d|  z_long_d|            z_lat_r|           z_long_r|m_id|                name|UATYPE| m_pop|m_house_unit| m_land|m_water|  m_lat_d|  m_long_d|            m_lat_r|           m_long_r|\n",
      "+----+-----+------------+------+-------+---------+----------+-------------------+-------------------+----+--------------------+------+------+------------+-------+-------+---------+----------+-------------------+-------------------+\n",
      "| 601|18570|        7744|64.348|  0.309|18.180555|-66.749961|0.31731054458991764|-1.1650065950278068| 199|Aberdeen--Bel Air...|     U|213751|       83721|131.131|  3.794|39.508977| -76.30343| 0.6895617327447118|-1.3317460840650168|\n",
      "| 601|18570|        7744|64.348|  0.309|18.180555|-66.749961|0.31731054458991764|-1.1650065950278068| 280|Abilene, TX Urban...|     U|110421|       46732| 54.732|  0.382|32.428466|-99.747188| 0.5659835030710355|-1.7409168502057775|\n",
      "| 601|18570|        7744|64.348|  0.309|18.180555|-66.749961|0.31731054458991764|-1.1650065950278068| 631|Aguadilla--Isabel...|     U|306196|      138431|239.274|  0.348|18.369286|-67.040259|0.32060452194049904|-1.1700732509397613|\n",
      "| 601|18570|        7744|64.348|  0.309|18.180555|-66.749961|0.31731054458991764|-1.1650065950278068| 766|Akron, OH Urbaniz...|     U|569499|      257659|325.377|  6.731|41.066225|-81.491897| 0.7167408376148084|-1.4223019163460895|\n",
      "| 601|18570|        7744|64.348|  0.309|18.180555|-66.749961|0.31731054458991764|-1.1650065950278068| 901|Albany, GA Urbani...|     U| 95779|       40430| 70.845|  1.077|31.591097|-84.168827| 0.5513686569669031|-1.4690231586915012|\n",
      "+----+-----+------------+------+-------+---------+----------+-------------------+-------------------+----+--------------------+------+------+------------+-------+-------+---------+----------+-------------------+-------------------+\n",
      "only showing top 5 rows\n",
      "\n"
     ]
    }
   ],
   "source": [
    "# Wikipedia, \"Great-circle distance,\" https://en.wikipedia.org/wiki/Great-circle_distance retrieved 12/9/2016\n",
    "from pyspark.sql.functions import acos, cos, sin, abs\n",
    "\n",
    "RMETERS = 6371000 #meters\n",
    "RMILES = RMETERS*0.000621371\n",
    "DIST_FN='distances.parquet'\n",
    "\n",
    "dfDist = dfZCTAs.join(dfMetroAreas)\n",
    "print(dfZCTAs.count(),dfMetroAreas.count(),dfZCTAs.count()*dfMetroAreas.count(),dfDist.count())\n",
    "dfDist.printSchema()\n",
    "dfDist.show(5)\n",
    "\n",
    "dfDist = dfDist.withColumn('dist',acos(\n",
    "                            sin(dfDist.z_lat_r)*sin(dfDist.m_lat_r)+\n",
    "                            cos(dfDist.z_lat_r)*cos(dfDist.m_lat_r)*cos(abs(dfDist.z_long_r-dfDist.m_long_r))\n",
    "                            )*RMILES)\n",
    "\n",
    "\n",
    "dfDist.write.save(PATH_PROCESSEDDATA+DIST_FN,mode='overwrite')"
   ]
  }
 ],
 "metadata": {
  "kernelspec": {
   "display_name": "Python 3",
   "language": "python",
   "name": "python3"
  },
  "language_info": {
   "codemirror_mode": {
    "name": "ipython",
    "version": 3
   },
   "file_extension": ".py",
   "mimetype": "text/x-python",
   "name": "python",
   "nbconvert_exporter": "python",
   "pygments_lexer": "ipython3",
   "version": "3.5.2"
  }
 },
 "nbformat": 4,
 "nbformat_minor": 1
}
