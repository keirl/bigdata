{
 "cells": [
  {
   "cell_type": "code",
   "execution_count": 2,
   "metadata": {
    "collapsed": true
   },
   "outputs": [],
   "source": [
    "from pyspark.sql import SparkSession\n",
    "\n",
    "spark = SparkSession \\\n",
    "    .builder \\\n",
    "    .appName(\"Calculate Distances\") \\\n",
    "    .config(\"spark.some.config.option\", \"some-value\") \\\n",
    "    .getOrCreate()"
   ]
  },
  {
   "cell_type": "code",
   "execution_count": 3,
   "metadata": {
    "collapsed": false
   },
   "outputs": [
    {
     "name": "stdout",
     "output_type": "stream",
     "text": [
      "root\n",
      " |-- GEOID: integer (nullable = true)\n",
      " |-- NAME: string (nullable = true)\n",
      " |-- UATYPE: string (nullable = true)\n",
      " |-- POP10: integer (nullable = true)\n",
      " |-- HU10: integer (nullable = true)\n",
      " |-- ALAND: long (nullable = true)\n",
      " |-- AWATER: integer (nullable = true)\n",
      " |-- ALAND_SQMI: double (nullable = true)\n",
      " |-- AWATER_SQMI: double (nullable = true)\n",
      " |-- INTPTLAT: double (nullable = true)\n",
      " |-- INTPTLONG: double (nullable = true)\n",
      "\n",
      "root\n",
      " |-- GEOID: integer (nullable = true)\n",
      " |-- POP10: integer (nullable = true)\n",
      " |-- HU10: integer (nullable = true)\n",
      " |-- ALAND: long (nullable = true)\n",
      " |-- AWATER: long (nullable = true)\n",
      " |-- ALAND_SQMI: double (nullable = true)\n",
      " |-- AWATER_SQMI: double (nullable = true)\n",
      " |-- INTPTLAT: double (nullable = true)\n",
      " |-- INTPTLONG: double (nullable = true)\n",
      "\n"
     ]
    }
   ],
   "source": [
    "import string\n",
    "dfMetroAreasRaw = spark.read.load(\"../rawdata/Gaz_ua_national.txt\", format=\"csv\", delimiter=\"\\t\", header=True, inferSchema=True)\n",
    "dfZCTAsRaw = spark.read.load(\"../rawdata/Gaz_zcta_national.txt\", format=\"csv\", delimiter=\"\\t\", header=True, inferSchema=True)\n",
    "dfMetroAreasRaw = dfMetroAreasRaw.withColumnRenamed(dfMetroAreasRaw.columns[-1],dfMetroAreasRaw.columns[-1].strip(string.whitespace))\n",
    "dfZCTAsRaw = dfZCTAsRaw.withColumnRenamed(dfZCTAsRaw.columns[-1],dfZCTAsRaw.columns[-1].strip(string.whitespace))\n",
    "dfMetroAreasRaw.printSchema()\n",
    "dfZCTAsRaw.printSchema()"
   ]
  },
  {
   "cell_type": "code",
   "execution_count": 4,
   "metadata": {
    "collapsed": false
   },
   "outputs": [
    {
     "name": "stdout",
     "output_type": "stream",
     "text": [
      "497\n",
      "+----+--------------------+------+------+------------+-------+-------+---------+-----------+-------------------+-------------------+\n",
      "|m_id|                name|UATYPE| m_pop|m_house_unit| m_land|m_water|  m_lat_d|   m_long_d|            m_lat_r|           m_long_r|\n",
      "+----+--------------------+------+------+------------+-------+-------+---------+-----------+-------------------+-------------------+\n",
      "| 199|Aberdeen--Bel Air...|     U|213751|       83721|131.131|  3.794|39.508977|  -76.30343| 0.6895617327447118|-1.3317460840650168|\n",
      "| 280|Abilene, TX Urban...|     U|110421|       46732| 54.732|  0.382|32.428466| -99.747188| 0.5659835030710355|-1.7409168502057775|\n",
      "| 631|Aguadilla--Isabel...|     U|306196|      138431|239.274|  0.348|18.369286| -67.040259|0.32060452194049904|-1.1700732509397613|\n",
      "| 766|Akron, OH Urbaniz...|     U|569499|      257659|325.377|  6.731|41.066225| -81.491897| 0.7167408376148084|-1.4223019163460895|\n",
      "| 901|Albany, GA Urbani...|     U| 95779|       40430| 70.845|  1.077|31.591097| -84.168827| 0.5513686569669031|-1.4690231586915012|\n",
      "| 955|Albany, OR Urbani...|     U| 56997|       23542| 23.963|  0.116|44.630995|-123.091188| 0.7789578111911265| -2.148346510791334|\n",
      "| 970|Albany--Schenecta...|     U|594962|      266370|295.732|  6.286|42.746355| -73.800509| 0.7460646379763407| -1.288061871697708|\n",
      "|1171|Albuquerque, NM U...|     U|741318|      314851|250.569|  3.444|35.141344| -106.62889| 0.6133321563759541|-1.8610252082468564|\n",
      "|1279|Alexandria, LA Ur...|     U| 82804|       33935| 65.542|   0.35|31.260637| -92.506129| 0.5456010419207625|-1.6145365293246094|\n",
      "|1495|Allentown, PA--NJ...|     U|664651|      271233|346.291|  4.064|40.651115| -75.442168| 0.7094958013568546|-1.3167142264427052|\n",
      "|1765|Alton, IL--MO Urb...|     U| 83890|       38237| 54.807|  0.781|38.897683|  -90.12829| 0.6788926397470255|-1.5730354096922803|\n",
      "|1792|Altoona, PA Urban...|     U| 79930|       35760| 37.394|  0.065|40.485263| -78.393865| 0.7066011378858371|-1.3682310576139447|\n",
      "|1927|Amarillo, TX Urba...|     U|196651|       80744| 81.177|  0.606|35.197528|-101.849137| 0.6143127521628947|-1.7776027809647799|\n",
      "|2062|Ames, IA Urbanize...|     U| 60438|       24470|  23.23|  0.063|42.031532| -93.633771| 0.7335886230573572|-1.6342175950083835|\n",
      "|2305|Anchorage, AK Urb...|     U|251243|       97417| 84.982|  1.026|61.167898|-149.847155| 1.0675812166240544|-2.6153262294962834|\n",
      "|2386|Anderson, IN Urba...|     U| 88133|       40670| 66.062|  0.291|40.089827| -85.679807| 0.6996994777049207| -1.495394734623285|\n",
      "|2413|Anderson, SC Urba...|     U| 75702|       34650| 74.086|  1.272|34.520717| -82.660933| 0.6025001717991793|-1.4427054436204338|\n",
      "|2602|Ann Arbor, MI Urb...|     U|306022|      133978|159.571|   5.25|42.240003| -83.662679| 0.7372271284022824| -1.460189209589117|\n",
      "|2629|Anniston--Oxford,...|     U| 79796|       36090| 86.769|  0.535|33.664398| -85.828795|  0.587554585801794|-1.4979950657692465|\n",
      "|2683|Antioch, CA Urban...|     U|277634|       93809| 81.361|  0.343|37.991687| -121.78212| 0.6630800265371269| -2.125498964058837|\n",
      "+----+--------------------+------+------+------------+-------+-------+---------+-----------+-------------------+-------------------+\n",
      "only showing top 20 rows\n",
      "\n"
     ]
    }
   ],
   "source": [
    "import numpy as np\n",
    "def deg2rad(deg):\n",
    "    return deg/360*(2*np.pi)\n",
    "MIN_POP = 50000\n",
    "dfMetroAreas = dfMetroAreasRaw.select('GEOID','NAME','UATYPE','POP10','HU10','ALAND_SQMI',\\\n",
    "                                      'AWATER_SQMI','INTPTLAT','INTPTLONG')\\\n",
    "                            .filter(dfMetroAreasRaw.POP10>MIN_POP)\\\n",
    "                            .withColumnRenamed('GEOID','m_id')\\\n",
    "                            .withColumnRenamed('NAME', 'name')\\\n",
    "                            .withColumnRenamed('POP10','m_pop')\\\n",
    "                            .withColumnRenamed('HU10','m_house_unit')\\\n",
    "                            .withColumnRenamed('ALAND_SQMI','m_land')\\\n",
    "                            .withColumnRenamed('AWATER_SQMI','m_water')\\\n",
    "                            .withColumnRenamed('INTPTLAT', 'm_lat_d')\\\n",
    "                            .withColumnRenamed('INTPTLONG', 'm_long_d')\n",
    "\n",
    "dfMetroAreas = dfMetroAreas.withColumn('m_lat_r', deg2rad(dfMetroAreas.m_lat_d)).withColumn('m_long_r', deg2rad(dfMetroAreas.m_long_d))\n",
    "print(dfMetroAreas.count())\n",
    "dfMetroAreas.show()"
   ]
  },
  {
   "cell_type": "code",
   "execution_count": 5,
   "metadata": {
    "collapsed": false
   },
   "outputs": [
    {
     "name": "stdout",
     "output_type": "stream",
     "text": [
      "33120\n",
      "+----+-----+------------+------+-------+---------+----------+-------------------+-------------------+\n",
      "|z_id|z_pop|z_house_unit|z_land|z_water|  z_lat_d|  z_long_d|            z_lat_r|           z_long_r|\n",
      "+----+-----+------------+------+-------+---------+----------+-------------------+-------------------+\n",
      "| 601|18570|        7744|64.348|  0.309|18.180555|-66.749961|0.31731054458991764|-1.1650065950278068|\n",
      "| 602|41520|       18073|30.613|  1.717|18.362268| -67.17613| 0.3204820347335941|-1.1724446472477383|\n",
      "| 603|54689|       25653|31.614|  0.071|18.455183|-67.119887| 0.3221037074080847|-1.1714630217165392|\n",
      "| 606| 6615|        2877|42.309|  0.005|18.158345|-66.932911|0.31692290696304976|-1.1681996748943304|\n",
      "| 610|29016|       12618|35.916|  1.611|18.290955|-67.125868| 0.3192373880841194| -1.171567409859101|\n",
      "| 612|67010|       30992|67.609|  3.787|18.402239|  -66.7114| 0.3211796602889088|-1.1643335786149451|\n",
      "| 616|11017|        4896|11.533|  0.058|18.420412|-66.671979| 0.3214968389738737|-1.1636455523705163|\n",
      "| 617|24597|       10594|15.192|   1.54|18.445147|-66.559696| 0.3219285461643545|-1.1616858443264997|\n",
      "| 622| 7853|        8714|28.987|  0.654|17.991245|-67.153993| 0.3140064617829672|-1.1720582837112243|\n",
      "| 623|43061|       21426| 37.98|  0.631|18.083435|-67.153877| 0.3156154808203808| -1.172056259129292|\n",
      "| 624|26241|        9905|43.163|  0.975|18.063275|-66.715966|0.31526362244317874| -1.164413270348591|\n",
      "| 627|35159|       14431|46.355|  1.354| 18.41503|-66.861879| 0.3214029053535314|-1.1669599326200537|\n",
      "| 631| 1852|         842| 4.021|  0.259|18.190607|-66.832041|0.31748598508632814|-1.1664391612778438|\n",
      "| 637|25287|       10962| 34.45|   0.01|18.076713|-66.947389| 0.3154981597880617| -1.168452363663434|\n",
      "| 638|18941|        7805|66.045|   0.19|18.291088|-66.513306|0.31923970937202456|-1.1608761860864993|\n",
      "| 641|31191|       13358|93.528|  1.338|18.262962| -66.71402|0.31874881806660865|-1.1643793062413474|\n",
      "| 646|38199|       16699|  20.7|  1.282|18.433167|-66.285941|0.32171945571996563|-1.1569079182327024|\n",
      "| 647| 6172|        3482|15.205|  3.094|17.963613|-66.947127| 0.3135241924040561|-1.1684477909007935|\n",
      "| 650|14998|        6124|30.522|  0.215|18.349416|-66.578079| 0.3202577250181278|-1.1620066882028939|\n",
      "| 652| 4715|        1947| 6.914|  0.006|18.451934|-66.603113| 0.3220470016606874| -1.162443613927838|\n",
      "+----+-----+------------+------+-------+---------+----------+-------------------+-------------------+\n",
      "only showing top 20 rows\n",
      "\n"
     ]
    }
   ],
   "source": [
    "dfZCTAs = dfZCTAsRaw.select('GEOID','POP10','HU10','ALAND_SQMI','AWATER_SQMI','INTPTLAT','INTPTLONG')\\\n",
    "                .withColumnRenamed('GEOID','z_id')\\\n",
    "                .withColumnRenamed('POP10','z_pop')\\\n",
    "                .withColumnRenamed('HU10','z_house_unit')\\\n",
    "                .withColumnRenamed('ALAND_SQMI','z_land')\\\n",
    "                .withColumnRenamed('AWATER_SQMI','z_water')\\\n",
    "                .withColumnRenamed('INTPTLAT', 'z_lat_d')\\\n",
    "                .withColumnRenamed('INTPTLONG', 'z_long_d')\n",
    "\n",
    "\n",
    "dfZCTAs = dfZCTAs.withColumn('z_lat_r', deg2rad(dfZCTAs.z_lat_d)).withColumn('z_long_r', deg2rad(dfZCTAs.z_long_d))\n",
    "print(dfZCTAs.count())\n",
    "dfZCTAs.show()"
   ]
  },
  {
   "cell_type": "code",
   "execution_count": 6,
   "metadata": {
    "collapsed": false
   },
   "outputs": [
    {
     "name": "stdout",
     "output_type": "stream",
     "text": [
      "33120 497 16460640 16460640\n",
      "root\n",
      " |-- z_id: integer (nullable = true)\n",
      " |-- z_pop: integer (nullable = true)\n",
      " |-- z_house_unit: integer (nullable = true)\n",
      " |-- z_land: double (nullable = true)\n",
      " |-- z_water: double (nullable = true)\n",
      " |-- z_lat_d: double (nullable = true)\n",
      " |-- z_long_d: double (nullable = true)\n",
      " |-- z_lat_r: double (nullable = true)\n",
      " |-- z_long_r: double (nullable = true)\n",
      " |-- m_id: integer (nullable = true)\n",
      " |-- name: string (nullable = true)\n",
      " |-- UATYPE: string (nullable = true)\n",
      " |-- m_pop: integer (nullable = true)\n",
      " |-- m_house_unit: integer (nullable = true)\n",
      " |-- m_land: double (nullable = true)\n",
      " |-- m_water: double (nullable = true)\n",
      " |-- m_lat_d: double (nullable = true)\n",
      " |-- m_long_d: double (nullable = true)\n",
      " |-- m_lat_r: double (nullable = true)\n",
      " |-- m_long_r: double (nullable = true)\n",
      "\n",
      "+----+-----+------------+------+-------+---------+----------+-------------------+-------------------+----+--------------------+------+------+------------+-------+-------+---------+-----------+-------------------+-------------------+\n",
      "|z_id|z_pop|z_house_unit|z_land|z_water|  z_lat_d|  z_long_d|            z_lat_r|           z_long_r|m_id|                name|UATYPE| m_pop|m_house_unit| m_land|m_water|  m_lat_d|   m_long_d|            m_lat_r|           m_long_r|\n",
      "+----+-----+------------+------+-------+---------+----------+-------------------+-------------------+----+--------------------+------+------+------------+-------+-------+---------+-----------+-------------------+-------------------+\n",
      "| 601|18570|        7744|64.348|  0.309|18.180555|-66.749961|0.31731054458991764|-1.1650065950278068| 199|Aberdeen--Bel Air...|     U|213751|       83721|131.131|  3.794|39.508977|  -76.30343| 0.6895617327447118|-1.3317460840650168|\n",
      "| 601|18570|        7744|64.348|  0.309|18.180555|-66.749961|0.31731054458991764|-1.1650065950278068| 280|Abilene, TX Urban...|     U|110421|       46732| 54.732|  0.382|32.428466| -99.747188| 0.5659835030710355|-1.7409168502057775|\n",
      "| 601|18570|        7744|64.348|  0.309|18.180555|-66.749961|0.31731054458991764|-1.1650065950278068| 631|Aguadilla--Isabel...|     U|306196|      138431|239.274|  0.348|18.369286| -67.040259|0.32060452194049904|-1.1700732509397613|\n",
      "| 601|18570|        7744|64.348|  0.309|18.180555|-66.749961|0.31731054458991764|-1.1650065950278068| 766|Akron, OH Urbaniz...|     U|569499|      257659|325.377|  6.731|41.066225| -81.491897| 0.7167408376148084|-1.4223019163460895|\n",
      "| 601|18570|        7744|64.348|  0.309|18.180555|-66.749961|0.31731054458991764|-1.1650065950278068| 901|Albany, GA Urbani...|     U| 95779|       40430| 70.845|  1.077|31.591097| -84.168827| 0.5513686569669031|-1.4690231586915012|\n",
      "| 601|18570|        7744|64.348|  0.309|18.180555|-66.749961|0.31731054458991764|-1.1650065950278068| 955|Albany, OR Urbani...|     U| 56997|       23542| 23.963|  0.116|44.630995|-123.091188| 0.7789578111911265| -2.148346510791334|\n",
      "| 601|18570|        7744|64.348|  0.309|18.180555|-66.749961|0.31731054458991764|-1.1650065950278068| 970|Albany--Schenecta...|     U|594962|      266370|295.732|  6.286|42.746355| -73.800509| 0.7460646379763407| -1.288061871697708|\n",
      "| 601|18570|        7744|64.348|  0.309|18.180555|-66.749961|0.31731054458991764|-1.1650065950278068|1171|Albuquerque, NM U...|     U|741318|      314851|250.569|  3.444|35.141344| -106.62889| 0.6133321563759541|-1.8610252082468564|\n",
      "| 601|18570|        7744|64.348|  0.309|18.180555|-66.749961|0.31731054458991764|-1.1650065950278068|1279|Alexandria, LA Ur...|     U| 82804|       33935| 65.542|   0.35|31.260637| -92.506129| 0.5456010419207625|-1.6145365293246094|\n",
      "| 601|18570|        7744|64.348|  0.309|18.180555|-66.749961|0.31731054458991764|-1.1650065950278068|1495|Allentown, PA--NJ...|     U|664651|      271233|346.291|  4.064|40.651115| -75.442168| 0.7094958013568546|-1.3167142264427052|\n",
      "| 601|18570|        7744|64.348|  0.309|18.180555|-66.749961|0.31731054458991764|-1.1650065950278068|1765|Alton, IL--MO Urb...|     U| 83890|       38237| 54.807|  0.781|38.897683|  -90.12829| 0.6788926397470255|-1.5730354096922803|\n",
      "| 601|18570|        7744|64.348|  0.309|18.180555|-66.749961|0.31731054458991764|-1.1650065950278068|1792|Altoona, PA Urban...|     U| 79930|       35760| 37.394|  0.065|40.485263| -78.393865| 0.7066011378858371|-1.3682310576139447|\n",
      "| 601|18570|        7744|64.348|  0.309|18.180555|-66.749961|0.31731054458991764|-1.1650065950278068|1927|Amarillo, TX Urba...|     U|196651|       80744| 81.177|  0.606|35.197528|-101.849137| 0.6143127521628947|-1.7776027809647799|\n",
      "| 601|18570|        7744|64.348|  0.309|18.180555|-66.749961|0.31731054458991764|-1.1650065950278068|2062|Ames, IA Urbanize...|     U| 60438|       24470|  23.23|  0.063|42.031532| -93.633771| 0.7335886230573572|-1.6342175950083835|\n",
      "| 601|18570|        7744|64.348|  0.309|18.180555|-66.749961|0.31731054458991764|-1.1650065950278068|2305|Anchorage, AK Urb...|     U|251243|       97417| 84.982|  1.026|61.167898|-149.847155| 1.0675812166240544|-2.6153262294962834|\n",
      "| 601|18570|        7744|64.348|  0.309|18.180555|-66.749961|0.31731054458991764|-1.1650065950278068|2386|Anderson, IN Urba...|     U| 88133|       40670| 66.062|  0.291|40.089827| -85.679807| 0.6996994777049207| -1.495394734623285|\n",
      "| 601|18570|        7744|64.348|  0.309|18.180555|-66.749961|0.31731054458991764|-1.1650065950278068|2413|Anderson, SC Urba...|     U| 75702|       34650| 74.086|  1.272|34.520717| -82.660933| 0.6025001717991793|-1.4427054436204338|\n",
      "| 601|18570|        7744|64.348|  0.309|18.180555|-66.749961|0.31731054458991764|-1.1650065950278068|2602|Ann Arbor, MI Urb...|     U|306022|      133978|159.571|   5.25|42.240003| -83.662679| 0.7372271284022824| -1.460189209589117|\n",
      "| 601|18570|        7744|64.348|  0.309|18.180555|-66.749961|0.31731054458991764|-1.1650065950278068|2629|Anniston--Oxford,...|     U| 79796|       36090| 86.769|  0.535|33.664398| -85.828795|  0.587554585801794|-1.4979950657692465|\n",
      "| 601|18570|        7744|64.348|  0.309|18.180555|-66.749961|0.31731054458991764|-1.1650065950278068|2683|Antioch, CA Urban...|     U|277634|       93809| 81.361|  0.343|37.991687| -121.78212| 0.6630800265371269| -2.125498964058837|\n",
      "+----+-----+------------+------+-------+---------+----------+-------------------+-------------------+----+--------------------+------+------+------------+-------+-------+---------+-----------+-------------------+-------------------+\n",
      "only showing top 20 rows\n",
      "\n"
     ]
    }
   ],
   "source": [
    "dfDist = dfZCTAs.join(dfMetroAreas)\n",
    "print(dfZCTAs.count(),dfMetroAreas.count(),dfZCTAs.count()*dfMetroAreas.count(),dfDist.count())\n",
    "dfDist.printSchema()\n",
    "dfDist.show()\n"
   ]
  },
  {
   "cell_type": "code",
   "execution_count": 7,
   "metadata": {
    "collapsed": false
   },
   "outputs": [],
   "source": [
    "# Wikipedia, \"Great-circle distance,\" https://en.wikipedia.org/wiki/Great-circle_distance retrieved 12/9/2016\n",
    "from pyspark.sql.functions import acos, cos, sin, abs\n",
    "\n",
    "RMETERS = 6371000 #meters\n",
    "RMILES = RMETERS*0.000621371\n",
    "\n",
    "dfDist = dfDist.withColumn('dist',acos(\n",
    "                            sin(dfDist.z_lat_r)*sin(dfDist.m_lat_r)+\n",
    "                            cos(dfDist.z_lat_r)*cos(dfDist.m_lat_r)*cos(abs(dfDist.z_long_r-dfDist.m_long_r))\n",
    "                            )*RMILES)\n",
    "\n"
   ]
  },
  {
   "cell_type": "code",
   "execution_count": 8,
   "metadata": {
    "collapsed": true
   },
   "outputs": [],
   "source": [
    "dfDist.write.save(\"../processeddata/distances.parquet\",mode='overwrite')"
   ]
  },
  {
   "cell_type": "code",
   "execution_count": 4,
   "metadata": {
    "collapsed": false
   },
   "outputs": [
    {
     "data": {
      "text/plain": [
       "3592"
      ]
     },
     "execution_count": 4,
     "metadata": {},
     "output_type": "execute_result"
    }
   ],
   "source": [
    "dfMetroAreasRaw.count()"
   ]
  }
 ],
 "metadata": {
  "kernelspec": {
   "display_name": "Python 3",
   "language": "python",
   "name": "python3"
  },
  "language_info": {
   "codemirror_mode": {
    "name": "ipython",
    "version": 3
   },
   "file_extension": ".py",
   "mimetype": "text/x-python",
   "name": "python",
   "nbconvert_exporter": "python",
   "pygments_lexer": "ipython3",
   "version": "3.5.2"
  }
 },
 "nbformat": 4,
 "nbformat_minor": 1
}
