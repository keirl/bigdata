{
 "cells": [
  {
   "cell_type": "code",
   "execution_count": null,
   "metadata": {
    "collapsed": true
   },
   "outputs": [],
   "source": [
    "x = dfNearby.select('z_id', 'm_id').take(1)\n",
    "x[0]['z_id']"
   ]
  },
  {
   "cell_type": "code",
   "execution_count": null,
   "metadata": {
    "collapsed": true
   },
   "outputs": [],
   "source": [
    "import boto3\n",
    "import time\n",
    "\n",
    "s3 = boto3.resource('s3')\n",
    "\n",
    "for bucket in s3.buckets.all():\n",
    "    print(bucket.name)\n",
    "    i = 0\n",
    "    for obj in bucket.objects.all():\n",
    "        i+=1\n",
    "    print(i)\n",
    "    "
   ]
  },
  {
   "cell_type": "code",
   "execution_count": null,
   "metadata": {
    "collapsed": true
   },
   "outputs": [],
   "source": [
    "# Wikipedia, \"Great-circle distance,\" https://en.wikipedia.org/wiki/Great-circle_distance retrieved 12/9/2016\n",
    "from pyspark.sql.functions import acos, cos, sin, abs\n",
    "\n",
    "spark.conf.set(\"spark.sql.crossJoin.enabled\", True)\n",
    "\n",
    "#.where(dfMetroAreas.m_pop>20000)\n",
    "\n",
    "dfDist = dfZCTAs.select('zid','z_lat_r','z_long_r').join(dfMetroAreas.select('mid','m_lat_r','m_long_r'))\n",
    "\n",
    "RMETERS = 6371000 #meters\n",
    "RMILES = RMETERS*0.000621371\n",
    "\n",
    "dfDist = dfDist.withColumn('dist',acos(\n",
    "                            sin(dfDist.z_lat_r)*sin(dfDist.m_lat_r)+\n",
    "                            cos(dfDist.z_lat_r)*cos(dfDist.m_lat_r)*cos(abs(dfDist.z_long_r-dfDist.m_long_r))\n",
    "                            )*RMILES)\n",
    "dfDist = dfDist.select('zid','mid','dist')\n",
    "print(dfDist.count())\n",
    "dfDist.coalesce(1).write.csv(\"/media/keir/Data/workspace/project/gc_distance.csv\",header=True,mode='overwrite')"
   ]
  },
  {
   "cell_type": "code",
   "execution_count": null,
   "metadata": {
    "collapsed": true
   },
   "outputs": [],
   "source": [
    "dfZCTAsRaw = spark.read.load(PATH_RAWDATA+ZCTA_FN, format=\"csv\", delimiter=\"\\t\", header=True, inferSchema=True)\n",
    "dfZCTAsRaw = dfZCTAsRaw.withColumnRenamed(dfZCTAsRaw.columns[-1],dfZCTAsRaw.columns[-1].strip(string.whitespace))\n",
    "dfZCTAs = dfZCTAsRaw.select('GEOID','POP10','HU10','ALAND_SQMI','AWATER_SQMI','INTPTLAT','INTPTLONG')\\\n",
    "                .withColumnRenamed('GEOID','z_id')\\\n",
    "                .withColumnRenamed('POP10','z_pop')\\\n",
    "                .withColumnRenamed('HU10','z_house_unit')\\\n",
    "                .withColumnRenamed('ALAND_SQMI','z_land')\\\n",
    "                .withColumnRenamed('AWATER_SQMI','z_water')\\\n",
    "                .withColumnRenamed('INTPTLAT', 'z_lat_d')\\\n",
    "                .withColumnRenamed('INTPTLONG', 'z_long_d')\n",
    "                \n",
    "dfZCTAs = dfZCTAs.withColumn('z_lat_r', deg2rad(dfZCTAs.z_lat_d)).withColumn('z_long_r', deg2rad(dfZCTAs.z_long_d))\n",
    "\n",
    "temp = dfZCTAs.rdd.map(append_z_prefix)\n",
    "dfR=spark.createDataFrame(temp)\n",
    "\n",
    "dfZCTAs = dfR.join(dfZCTAs,dfZCTAs.z_id==dfR.z_id).drop(dfR.z_id)\n",
    "\n",
    "dfZCTAs.show(5)\n",
    "\n",
    "dfZCTAs.coalesce(1).write.csv(\"/media/keir/Data/workspace/project/zctas.csv\",header=True,mode='overwrite')"
   ]
  },
  {
   "cell_type": "code",
   "execution_count": null,
   "metadata": {
    "collapsed": true
   },
   "outputs": [],
   "source": [
    "import json\n",
    "out = r.json()\n",
    "print(json.dumps(out[\"resourceSets\"][0][\"resources\"][0][\"travelDistance\"], sort_keys=True, indent=4))\n",
    "#print(json.dumps(out, sort_keys=True, indent=4))\n"
   ]
  },
  {
   "cell_type": "code",
   "execution_count": null,
   "metadata": {
    "collapsed": true
   },
   "outputs": [],
   "source": [
    "with open('../rawdata/bing_results/601_30115.json','r') as f:\n",
    "    t = json.load(f)\n",
    "    \n",
    "print(json.dumps(t, sort_keys=True, indent=4))"
   ]
  }
 ],
 "metadata": {
  "kernelspec": {
   "display_name": "Python 3",
   "language": "python",
   "name": "python3"
  },
  "language_info": {
   "codemirror_mode": {
    "name": "ipython",
    "version": 3
   },
   "file_extension": ".py",
   "mimetype": "text/x-python",
   "name": "python",
   "nbconvert_exporter": "python",
   "pygments_lexer": "ipython3",
   "version": "3.5.2"
  }
 },
 "nbformat": 4,
 "nbformat_minor": 1
}
