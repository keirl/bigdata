{
 "cells": [
  {
   "cell_type": "code",
   "execution_count": 1,
   "metadata": {
    "collapsed": false
   },
   "outputs": [],
   "source": [
    "from pyspark.sql import SparkSession\n",
    "\n",
    "spark = SparkSession \\\n",
    "    .builder \\\n",
    "    .appName(\"Calculate Distances\") \\\n",
    "    .config(\"spark.some.config.option\", \"some-value\") \\\n",
    "    .getOrCreate()"
   ]
  },
  {
   "cell_type": "code",
   "execution_count": 2,
   "metadata": {
    "collapsed": false,
    "scrolled": true
   },
   "outputs": [
    {
     "name": "stdout",
     "output_type": "stream",
     "text": [
      "root\n",
      " |-- z_id: integer (nullable = true)\n",
      " |-- z_pop: integer (nullable = true)\n",
      " |-- z_house_unit: integer (nullable = true)\n",
      " |-- z_land: double (nullable = true)\n",
      " |-- z_water: double (nullable = true)\n",
      " |-- z_lat_d: double (nullable = true)\n",
      " |-- z_long_d: double (nullable = true)\n",
      " |-- z_lat_r: double (nullable = true)\n",
      " |-- z_long_r: double (nullable = true)\n",
      " |-- m_id: integer (nullable = true)\n",
      " |-- name: string (nullable = true)\n",
      " |-- UATYPE: string (nullable = true)\n",
      " |-- m_pop: integer (nullable = true)\n",
      " |-- m_house_unit: integer (nullable = true)\n",
      " |-- m_land: double (nullable = true)\n",
      " |-- m_water: double (nullable = true)\n",
      " |-- m_lat_d: double (nullable = true)\n",
      " |-- m_long_d: double (nullable = true)\n",
      " |-- m_lat_r: double (nullable = true)\n",
      " |-- m_long_r: double (nullable = true)\n",
      " |-- dist: double (nullable = true)\n",
      "\n"
     ]
    }
   ],
   "source": [
    "dfDist = spark.read.parquet(\"../processeddata/distances.parquet\")\n",
    "dfDist.printSchema()"
   ]
  },
  {
   "cell_type": "code",
   "execution_count": 3,
   "metadata": {
    "collapsed": false
   },
   "outputs": [
    {
     "name": "stdout",
     "output_type": "stream",
     "text": [
      "111727\n"
     ]
    }
   ],
   "source": [
    "dfNearby = dfDist.where(dfDist.dist<60)\n",
    "print(dfNearby.count())"
   ]
  },
  {
   "cell_type": "code",
   "execution_count": 4,
   "metadata": {
    "collapsed": false
   },
   "outputs": [
    {
     "name": "stderr",
     "output_type": "stream",
     "text": [
      "/opt/spark-2.0.2-bin-hadoop2.7/python/pyspark/sql/session.py:336: UserWarning: Using RDD of dict to inferSchema is deprecated. Use pyspark.sql.Row instead\n",
      "  warnings.warn(\"Using RDD of dict to inferSchema is deprecated. \"\n"
     ]
    }
   ],
   "source": [
    "# https://realpython.com/blog/python/api-integration-in-python/\n",
    "# http://docs.python-requests.org/en/master/user/quickstart/\n",
    "import requests\n",
    "import json\n",
    "import time\n",
    "from pyspark.sql import Row\n",
    "import os\n",
    "\n",
    "\n",
    "def request_distance(wp0,wp1):\n",
    "    values = dict()\n",
    "    values['wp.0']=wp0\n",
    "    values['wp.1']=wp1\n",
    "    values['distanceUnit']='mi'\n",
    "    f = open('../credentials/bing_map_key', 'r')\n",
    "    values['key']= f.readline()\n",
    "    f.close()\n",
    "    \n",
    "    r = requests.get('https://dev.virtualearth.net/REST/V1/Routes/Driving', params=values)\n",
    "    \n",
    "    r.raise_for_status()\n",
    "    \n",
    "    #if r.status_code != requests.codes.ok:\n",
    "    #    print('Error occured with request', r.url)\n",
    "    #    raise RequestError\n",
    "    \n",
    "    return r\n",
    "\n",
    "\n",
    "\n",
    "def get_distance(row):\n",
    "    path = '../rawdata/bing_results/'\n",
    "    fn_prefix = path+str(row['z_id'])+'_'+str(row['m_id'])\n",
    "    fn = fn_prefix+'.json'\n",
    "    \n",
    "    with open(fn_prefix+'_meta.json','w') as f:\n",
    "        json.dump(row,f)\n",
    "    \n",
    "    if os.path.isfile(fn):\n",
    "        with open(fn,'r') as f:\n",
    "            resp_json = json.load(f)\n",
    "            ddist = float(json.dumps(resp_json[\"resourceSets\"][0][\"resources\"][0][\"travelDistance\"], sort_keys=True, indent=4))\n",
    "\n",
    "    else:\n",
    "        z_coords = str(row['z_lat_d'])+','+str(row['z_long_d'])\n",
    "        m_coords = str(row['m_lat_d'])+','+str(row['m_long_d'])\n",
    "        \n",
    "        try:\n",
    "            resp = request_distance(z_coords,m_coords)\n",
    "            resp_json = resp.json()\n",
    "            ddist = float(json.dumps(resp_json[\"resourceSets\"][0][\"resources\"][0][\"travelDistance\"], sort_keys=True, indent=4))\n",
    "            time.sleep(.400)\n",
    "            with open(fn_prefix+'.json','w') as f:\n",
    "                json.dump(resp_json,f)\n",
    "        except:\n",
    "            print('Error occured:', str(row['z_id'])+'_'+str(row['m_id']))\n",
    "            ddist = -1\n",
    "            \n",
    "            \n",
    "    record=row.asDict()\n",
    "    record['id'] = str(row['z_id'])+'_'+str(row['m_id'])\n",
    "    record['ddist']= ddist\n",
    "    print(record['id'],record['dist'],record['ddist'])\n",
    "    \n",
    "    return record\n",
    "\n",
    "\n",
    "r = dfNearby.rdd.map(get_distance)\n",
    "dfR=spark.createDataFrame(r)\n",
    "\n",
    "\n"
   ]
  },
  {
   "cell_type": "code",
   "execution_count": 5,
   "metadata": {
    "collapsed": false,
    "scrolled": true
   },
   "outputs": [],
   "source": [
    "dfR.write.save(\"../processeddata/driv_dist.parquet\",mode='overwrite')"
   ]
  }
 ],
 "metadata": {
  "kernelspec": {
   "display_name": "Python 3",
   "language": "python",
   "name": "python3"
  },
  "language_info": {
   "codemirror_mode": {
    "name": "ipython",
    "version": 3
   },
   "file_extension": ".py",
   "mimetype": "text/x-python",
   "name": "python",
   "nbconvert_exporter": "python",
   "pygments_lexer": "ipython3",
   "version": "3.5.2"
  }
 },
 "nbformat": 4,
 "nbformat_minor": 1
}
