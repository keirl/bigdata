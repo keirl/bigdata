{
 "cells": [
  {
   "cell_type": "code",
   "execution_count": 45,
   "metadata": {
    "collapsed": false
   },
   "outputs": [
    {
     "data": {
      "text/html": [
       "<style>.container { width:100% !important; }</style>"
      ],
      "text/plain": [
       "<IPython.core.display.HTML object>"
      ]
     },
     "metadata": {},
     "output_type": "display_data"
    }
   ],
   "source": [
    "import pandas as pd\n",
    "import numpy as np\n",
    "from IPython.display import Image\n",
    "import plotly \n",
    "\n",
    "plotly.tools.set_credentials_file(username='crazysauce', api_key='NrGsrsXG6dSp3Ek1QnAy')\n",
    "\n",
    "from IPython.core.display import display, HTML\n",
    "display(HTML(\"<style>.container { width:100% !important; }</style>\"))"
   ]
  },
  {
   "cell_type": "code",
   "execution_count": 46,
   "metadata": {
    "collapsed": false
   },
   "outputs": [
    {
     "data": {
      "text/html": [
       "<div>\n",
       "<table border=\"1\" class=\"dataframe\">\n",
       "  <thead>\n",
       "    <tr style=\"text-align: right;\">\n",
       "      <th></th>\n",
       "      <th>z_lat_d</th>\n",
       "      <th>z_long_d</th>\n",
       "      <th>z_land</th>\n",
       "      <th>z_water</th>\n",
       "      <th>z_pop</th>\n",
       "      <th>z_households</th>\n",
       "      <th>z_comm</th>\n",
       "      <th>z_med_inc</th>\n",
       "      <th>z_house_unit</th>\n",
       "      <th>z_comm_miles</th>\n",
       "      <th>z_comm_miles_ph</th>\n",
       "      <th>z_carb_ton_ph</th>\n",
       "      <th>z_id</th>\n",
       "      <th>z_pov</th>\n",
       "      <th>z_per_comm</th>\n",
       "    </tr>\n",
       "  </thead>\n",
       "  <tbody>\n",
       "    <tr>\n",
       "      <th>count</th>\n",
       "      <td>26170.000000</td>\n",
       "      <td>26170.000000</td>\n",
       "      <td>26170.000000</td>\n",
       "      <td>26170.000000</td>\n",
       "      <td>26170.000000</td>\n",
       "      <td>26170.000000</td>\n",
       "      <td>26170.000000</td>\n",
       "      <td>24709.00000</td>\n",
       "      <td>26170.000000</td>\n",
       "      <td>2.617000e+04</td>\n",
       "      <td>26031.000000</td>\n",
       "      <td>26031.000000</td>\n",
       "      <td>26170.000000</td>\n",
       "      <td>25548.000000</td>\n",
       "      <td>25758.000000</td>\n",
       "    </tr>\n",
       "    <tr>\n",
       "      <th>mean</th>\n",
       "      <td>38.325589</td>\n",
       "      <td>-88.969161</td>\n",
       "      <td>52.803052</td>\n",
       "      <td>1.253387</td>\n",
       "      <td>11308.166794</td>\n",
       "      <td>4271.586855</td>\n",
       "      <td>2826.670462</td>\n",
       "      <td>55545.24740</td>\n",
       "      <td>4773.933053</td>\n",
       "      <td>4.341181e+07</td>\n",
       "      <td>19028.372806</td>\n",
       "      <td>7.902110</td>\n",
       "      <td>46426.915705</td>\n",
       "      <td>11.037940</td>\n",
       "      <td>78.700978</td>\n",
       "    </tr>\n",
       "    <tr>\n",
       "      <th>std</th>\n",
       "      <td>4.924491</td>\n",
       "      <td>14.044077</td>\n",
       "      <td>83.886523</td>\n",
       "      <td>4.402078</td>\n",
       "      <td>14713.765187</td>\n",
       "      <td>5468.304529</td>\n",
       "      <td>3678.442110</td>\n",
       "      <td>23311.76608</td>\n",
       "      <td>5967.497131</td>\n",
       "      <td>5.732325e+07</td>\n",
       "      <td>7298.145215</td>\n",
       "      <td>3.030776</td>\n",
       "      <td>27645.920808</td>\n",
       "      <td>10.359998</td>\n",
       "      <td>13.517806</td>\n",
       "    </tr>\n",
       "    <tr>\n",
       "      <th>min</th>\n",
       "      <td>17.963613</td>\n",
       "      <td>-158.185151</td>\n",
       "      <td>0.002000</td>\n",
       "      <td>0.000000</td>\n",
       "      <td>0.000000</td>\n",
       "      <td>0.000000</td>\n",
       "      <td>0.000000</td>\n",
       "      <td>3479.00000</td>\n",
       "      <td>0.000000</td>\n",
       "      <td>0.000000e+00</td>\n",
       "      <td>0.000000</td>\n",
       "      <td>0.000000</td>\n",
       "      <td>601.000000</td>\n",
       "      <td>0.000000</td>\n",
       "      <td>0.000000</td>\n",
       "    </tr>\n",
       "    <tr>\n",
       "      <th>25%</th>\n",
       "      <td>35.067059</td>\n",
       "      <td>-94.930508</td>\n",
       "      <td>6.954000</td>\n",
       "      <td>0.018000</td>\n",
       "      <td>1119.250000</td>\n",
       "      <td>413.000000</td>\n",
       "      <td>279.250000</td>\n",
       "      <td>40659.00000</td>\n",
       "      <td>521.250000</td>\n",
       "      <td>5.581571e+06</td>\n",
       "      <td>13632.368576</td>\n",
       "      <td>5.661255</td>\n",
       "      <td>23047.750000</td>\n",
       "      <td>4.200000</td>\n",
       "      <td>75.500000</td>\n",
       "    </tr>\n",
       "    <tr>\n",
       "      <th>50%</th>\n",
       "      <td>39.320292</td>\n",
       "      <td>-85.841082</td>\n",
       "      <td>27.855500</td>\n",
       "      <td>0.194000</td>\n",
       "      <td>4348.000000</td>\n",
       "      <td>1625.500000</td>\n",
       "      <td>1086.500000</td>\n",
       "      <td>50923.00000</td>\n",
       "      <td>1931.500000</td>\n",
       "      <td>1.932455e+07</td>\n",
       "      <td>19653.436688</td>\n",
       "      <td>8.161687</td>\n",
       "      <td>45134.000000</td>\n",
       "      <td>8.500000</td>\n",
       "      <td>81.300000</td>\n",
       "    </tr>\n",
       "    <tr>\n",
       "      <th>75%</th>\n",
       "      <td>41.697514</td>\n",
       "      <td>-78.917872</td>\n",
       "      <td>66.745500</td>\n",
       "      <td>0.891000</td>\n",
       "      <td>17115.250000</td>\n",
       "      <td>6629.750000</td>\n",
       "      <td>4278.750000</td>\n",
       "      <td>64732.00000</td>\n",
       "      <td>7449.000000</td>\n",
       "      <td>6.003442e+07</td>\n",
       "      <td>24886.945377</td>\n",
       "      <td>10.335060</td>\n",
       "      <td>68742.500000</td>\n",
       "      <td>14.800000</td>\n",
       "      <td>85.800000</td>\n",
       "    </tr>\n",
       "    <tr>\n",
       "      <th>max</th>\n",
       "      <td>65.390183</td>\n",
       "      <td>-65.295977</td>\n",
       "      <td>3529.043000</td>\n",
       "      <td>248.932000</td>\n",
       "      <td>113916.000000</td>\n",
       "      <td>43456.000000</td>\n",
       "      <td>28479.000000</td>\n",
       "      <td>236500.00000</td>\n",
       "      <td>47617.000000</td>\n",
       "      <td>5.225270e+08</td>\n",
       "      <td>32496.470500</td>\n",
       "      <td>13.495146</td>\n",
       "      <td>99790.000000</td>\n",
       "      <td>100.000000</td>\n",
       "      <td>100.000000</td>\n",
       "    </tr>\n",
       "  </tbody>\n",
       "</table>\n",
       "</div>"
      ],
      "text/plain": [
       "            z_lat_d      z_long_d        z_land       z_water          z_pop  \\\n",
       "count  26170.000000  26170.000000  26170.000000  26170.000000   26170.000000   \n",
       "mean      38.325589    -88.969161     52.803052      1.253387   11308.166794   \n",
       "std        4.924491     14.044077     83.886523      4.402078   14713.765187   \n",
       "min       17.963613   -158.185151      0.002000      0.000000       0.000000   \n",
       "25%       35.067059    -94.930508      6.954000      0.018000    1119.250000   \n",
       "50%       39.320292    -85.841082     27.855500      0.194000    4348.000000   \n",
       "75%       41.697514    -78.917872     66.745500      0.891000   17115.250000   \n",
       "max       65.390183    -65.295977   3529.043000    248.932000  113916.000000   \n",
       "\n",
       "       z_households        z_comm     z_med_inc  z_house_unit  z_comm_miles  \\\n",
       "count  26170.000000  26170.000000   24709.00000  26170.000000  2.617000e+04   \n",
       "mean    4271.586855   2826.670462   55545.24740   4773.933053  4.341181e+07   \n",
       "std     5468.304529   3678.442110   23311.76608   5967.497131  5.732325e+07   \n",
       "min        0.000000      0.000000    3479.00000      0.000000  0.000000e+00   \n",
       "25%      413.000000    279.250000   40659.00000    521.250000  5.581571e+06   \n",
       "50%     1625.500000   1086.500000   50923.00000   1931.500000  1.932455e+07   \n",
       "75%     6629.750000   4278.750000   64732.00000   7449.000000  6.003442e+07   \n",
       "max    43456.000000  28479.000000  236500.00000  47617.000000  5.225270e+08   \n",
       "\n",
       "       z_comm_miles_ph  z_carb_ton_ph          z_id         z_pov  \\\n",
       "count     26031.000000   26031.000000  26170.000000  25548.000000   \n",
       "mean      19028.372806       7.902110  46426.915705     11.037940   \n",
       "std        7298.145215       3.030776  27645.920808     10.359998   \n",
       "min           0.000000       0.000000    601.000000      0.000000   \n",
       "25%       13632.368576       5.661255  23047.750000      4.200000   \n",
       "50%       19653.436688       8.161687  45134.000000      8.500000   \n",
       "75%       24886.945377      10.335060  68742.500000     14.800000   \n",
       "max       32496.470500      13.495146  99790.000000    100.000000   \n",
       "\n",
       "         z_per_comm  \n",
       "count  25758.000000  \n",
       "mean      78.700978  \n",
       "std       13.517806  \n",
       "min        0.000000  \n",
       "25%       75.500000  \n",
       "50%       81.300000  \n",
       "75%       85.800000  \n",
       "max      100.000000  "
      ]
     },
     "execution_count": 46,
     "metadata": {},
     "output_type": "execute_result"
    }
   ],
   "source": [
    "df_carbon = pd.read_csv('/Users/adamowens/datascience/zcarbon_v2.csv')\n",
    "df_carbon.describe()"
   ]
  },
  {
   "cell_type": "markdown",
   "metadata": {},
   "source": [
    "# Map of Carbon Ton Per Household"
   ]
  },
  {
   "cell_type": "code",
   "execution_count": 47,
   "metadata": {
    "collapsed": false
   },
   "outputs": [],
   "source": [
    "#Data Prep\n",
    "df_carbon['z_id'] = df_carbon['z_id'].apply(lambda x: str(x))\n",
    "df_carbon['z_carbon'] = df_carbon['z_carb_ton_ph'].apply(lambda x: \"%.3f\" % x)\n",
    "df_carbon['text'] = 'Zip Code '+df_carbon['z_id'] + ' <br> '+(df_carbon['z_carbon']).astype(str)+' Carbon Tons'"
   ]
  },
  {
   "cell_type": "code",
   "execution_count": 48,
   "metadata": {
    "collapsed": false
   },
   "outputs": [
    {
     "data": {
      "text/html": [
       "<iframe id=\"igraph\" scrolling=\"no\" style=\"border:none;\" seamless=\"seamless\" src=\"https://plot.ly/~crazysauce/17.embed\" height=\"1200px\" width=\"1800px\"></iframe>"
      ],
      "text/plain": [
       "<plotly.tools.PlotlyDisplay object>"
      ]
     },
     "execution_count": 48,
     "metadata": {},
     "output_type": "execute_result"
    }
   ],
   "source": [
    "import plotly.plotly as py\n",
    "import pandas as pd\n",
    "\n",
    "limits = [(0,8),(8,10),(10,12),(12,15)]\n",
    "# colors = [\"lightgrey\",\"brown\",\"orange\",\"red\"]\n",
    "zip_codes = []\n",
    "scale = 1\n",
    "\n",
    "for i in range(len(limits)):\n",
    "    lim = limits[i]\n",
    "    df_sub = df_carbon.ix[(df_carbon['z_carb_ton_ph'] > lim[0]) & (df_carbon['z_carb_ton_ph'] < lim[1])]\n",
    "    zip_code = dict(\n",
    "        type = 'scattergeo',\n",
    "        locationmode = 'USA-states',\n",
    "        lon = df_sub['z_long_d'],\n",
    "        lat = df_sub['z_lat_d'],\n",
    "        text = df_sub['text'],\n",
    "        marker = dict(\n",
    "            size = df_sub['z_carb_ton_ph']/scale,\n",
    "            color = colors[i],\n",
    "            line = dict(width=0.5, color='rgb(40,40,40)'),\n",
    "            sizemode = 'area'\n",
    "        ),\n",
    "        name = '{0} - {1}'.format(lim[0],lim[1]) )\n",
    "    zip_codes.append(zip_code)\n",
    "\n",
    "layout = dict(\n",
    "        title = '2014 Carbon Tons Per Household<br>(Click legend to toggle categories)',\n",
    "        showlegend = True,\n",
    "        width = 1800,\n",
    "        height = 1200,\n",
    "        geo = dict(\n",
    "            scope='usa',\n",
    "            projection=dict( type='albers usa' ),\n",
    "            showland = True,\n",
    "            landcolor = 'rgb(217, 217, 217)',\n",
    "            subunitwidth=1,\n",
    "            countrywidth=1,\n",
    "            subunitcolor=\"rgb(255, 255, 255)\",\n",
    "            countrycolor=\"rgb(255, 255, 255)\"\n",
    "        ),\n",
    "    )\n",
    "\n",
    "fig = dict( data=zip_codes, layout=layout )\n",
    "py.iplot( fig, validate=False, filename='d3-bubble-map-populations' )\n"
   ]
  },
  {
   "cell_type": "markdown",
   "metadata": {},
   "source": [
    "# Map of Carbon Ton Pollution"
   ]
  },
  {
   "cell_type": "code",
   "execution_count": 71,
   "metadata": {
    "collapsed": false
   },
   "outputs": [],
   "source": [
    "df_carbon['z_carbon_tons'] = df_carbon['z_house_unit'] * df_carbon['z_carb_ton_ph']\n",
    "df_carbon['text2'] = 'Zip Code '+df_carbon['z_id'] + ' <br> '+(df_carbon['z_carbon_tons']).astype(str)+' Carbon Tons'"
   ]
  },
  {
   "cell_type": "code",
   "execution_count": 72,
   "metadata": {
    "collapsed": false
   },
   "outputs": [],
   "source": [
    "def perc_carbon(n):\n",
    "    carbon = np.array(df_carbon['z_carbon_tons'].sort_values())\n",
    "    percentile = np.nanpercentile(carbon, n)\n",
    "    \n",
    "    return percentile"
   ]
  },
  {
   "cell_type": "code",
   "execution_count": 59,
   "metadata": {
    "collapsed": false
   },
   "outputs": [
    {
     "data": {
      "text/html": [
       "<iframe id=\"igraph\" scrolling=\"no\" style=\"border:none;\" seamless=\"seamless\" src=\"https://plot.ly/~crazysauce/19.embed\" height=\"1200px\" width=\"1800px\"></iframe>"
      ],
      "text/plain": [
       "<plotly.tools.PlotlyDisplay object>"
      ]
     },
     "execution_count": 59,
     "metadata": {},
     "output_type": "execute_result"
    }
   ],
   "source": [
    "limits = [(0,25),(25,50),(50,75),(75,100)]\n",
    "colors = ['#77AF9C','#4ea1d3','#FFBC42','#D81159']\n",
    "zip_codes = []\n",
    "scale = 10000\n",
    "\n",
    "for i in range(len(limits)):\n",
    "    lim = limits[i]\n",
    "    df_sub = df_carbon.ix[(df_carbon['z_carbon_tons'] > perc_carbon(lim[0])) & \n",
    "                           (df_carbon['z_carbon_tons'] < perc_carbon(lim[1]))]\n",
    "    zip_code = dict(\n",
    "        type = 'scattergeo',\n",
    "        locationmode = 'USA-states',\n",
    "        lon = df_sub['z_long_d'],\n",
    "        lat = df_sub['z_lat_d'],\n",
    "        text = df_sub['text2'],\n",
    "        marker = dict(\n",
    "            size = df_sub['z_carbon_tons']/scale,\n",
    "            color = colors[i],\n",
    "            line = dict(width=0.5, color='rgb(40,40,40)'),\n",
    "            sizemode = 'area'\n",
    "        ),\n",
    "        name = '{0} - {1}'.format(lim[0],lim[1]) )\n",
    "    zip_codes.append(zip_code)\n",
    "\n",
    "layout = dict(\n",
    "        title = '2014 Carbon Tons<br>(By Percentile)',\n",
    "        showlegend = True,\n",
    "        width=1800,\n",
    "        height=1200,    \n",
    "        geo = dict(\n",
    "            scope='usa',\n",
    "            projection=dict( type='albers usa' ),\n",
    "            showland = True,\n",
    "            landcolor = 'rgb(217, 217, 217)',\n",
    "            subunitwidth=1,\n",
    "            countrywidth=1,\n",
    "            subunitcolor=\"rgb(255, 255, 255)\",\n",
    "            countrycolor=\"rgb(255, 255, 255)\"),)\n",
    "\n",
    "fig = dict( data=zip_codes, layout=layout )\n",
    "py.iplot( fig, validate=False, filename='carbon-tons-percentile.png' )"
   ]
  },
  {
   "cell_type": "markdown",
   "metadata": {},
   "source": [
    "# Map of Carbon Tax Per Capita"
   ]
  },
  {
   "cell_type": "code",
   "execution_count": 60,
   "metadata": {
    "collapsed": false
   },
   "outputs": [],
   "source": [
    "def perc_carbon_pop(n):\n",
    "    carbon = np.array(df_carbon['carbon_tax_per_capita'].sort_values())\n",
    "    percentile = round(np.nanpercentile(carbon, n), 2)\n",
    "    \n",
    "    return percentile\n",
    "\n",
    "tax = 140\n",
    "df_carbon['total_carbon_tax']= df_carbon['z_carbon_tons'] * tax\n",
    "df_carbon['carbon_tax_per_capita']= df_carbon['total_carbon_tax'] / df_carbon['z_pop']"
   ]
  },
  {
   "cell_type": "code",
   "execution_count": 27,
   "metadata": {
    "collapsed": false
   },
   "outputs": [
    {
     "data": {
      "text/html": [
       "<iframe id=\"igraph\" scrolling=\"no\" style=\"border:none;\" seamless=\"seamless\" src=\"https://plot.ly/~crazysauce/15.embed\" height=\"1200px\" width=\"1800px\"></iframe>"
      ],
      "text/plain": [
       "<plotly.tools.PlotlyDisplay object>"
      ]
     },
     "execution_count": 27,
     "metadata": {},
     "output_type": "execute_result"
    }
   ],
   "source": [
    "limits = [(perc_carbon_pop(0),perc_carbon_pop(90)),(perc_carbon_pop(90),perc_carbon_pop(95))\n",
    "          ,(perc_carbon_pop(95),perc_carbon_pop(99)),(perc_carbon_pop(99),perc_carbon_pop(100))]\n",
    "colors = [\"lightgrey\",\"black\",\"orange\",\"red\"]\n",
    "zip_codes = []\n",
    "scale = 200\n",
    "\n",
    "\n",
    "for i in range(len(limits)):\n",
    "    lim = limits[i]\n",
    "    df_sub = df_carbon.ix[(df_carbon['carbon_tax_per_capita'] > lim[0]) & \n",
    "                           (df_carbon['carbon_tax_per_capita'] < lim[1])]\n",
    "    zip_code = dict(\n",
    "        type = 'scattergeo',\n",
    "        locationmode = 'USA-states',\n",
    "        lon = df_sub['z_long_d'],\n",
    "        lat = df_sub['z_lat_d'],\n",
    "        text = df_sub['text2'],\n",
    "        marker = dict(\n",
    "            size = df_sub['carbon_tax_per_capita']/scale,\n",
    "            color = colors[i],\n",
    "            line = dict(width=0.5, color='rgb(40,40,40)'),\n",
    "            sizemode = 'area'\n",
    "        ),\n",
    "        name = '{0} - {1}'.format(lim[0],lim[1]) )\n",
    "    zip_codes.append(zip_code)\n",
    "\n",
    "layout = dict(\n",
    "        title = '2014 Carbon Tax Per Capita <br>(By Percentile)',\n",
    "        showlegend = True,\n",
    "        width=1800,\n",
    "        height=1200,\n",
    "\n",
    "        geo = dict(\n",
    "            scope='usa',\n",
    "            projection=dict( type='albers usa' ),\n",
    "            showland = True,\n",
    "            landcolor = 'rgb(217, 217, 217)',\n",
    "            subunitwidth=1,\n",
    "            countrywidth=1,\n",
    "            subunitcolor=\"rgb(255, 255, 255)\",\n",
    "            countrycolor=\"rgb(255, 255, 255)\"\n",
    "        ),\n",
    "    )\n",
    "\n",
    "fig = dict( data=zip_codes, layout=layout )\n",
    "py.iplot( fig, validate=False, filename='carbon_tax_140' )\n",
    "\n"
   ]
  },
  {
   "cell_type": "markdown",
   "metadata": {},
   "source": [
    "# Map of Carbon Tax Per Household"
   ]
  },
  {
   "cell_type": "code",
   "execution_count": 29,
   "metadata": {
    "collapsed": false
   },
   "outputs": [
    {
     "data": {
      "text/plain": [
       "1651.16"
      ]
     },
     "execution_count": 29,
     "metadata": {},
     "output_type": "execute_result"
    }
   ],
   "source": [
    "tax = 140\n",
    "df_carbon['carbon_tax_per_house']= df_carbon['z_carb_ton_ph'] * tax\n",
    "\n",
    "def perc_carbon_house(n):\n",
    "    carbon = np.array(df_carbon['carbon_tax_per_house'].sort_values())\n",
    "    percentile = round(np.nanpercentile(carbon, n), 2)\n",
    "    \n",
    "    return percentile"
   ]
  },
  {
   "cell_type": "code",
   "execution_count": 31,
   "metadata": {
    "collapsed": false
   },
   "outputs": [
    {
     "data": {
      "text/html": [
       "<iframe id=\"igraph\" scrolling=\"no\" style=\"border:none;\" seamless=\"seamless\" src=\"https://plot.ly/~crazysauce/15.embed\" height=\"1200px\" width=\"1800px\"></iframe>"
      ],
      "text/plain": [
       "<plotly.tools.PlotlyDisplay object>"
      ]
     },
     "execution_count": 31,
     "metadata": {},
     "output_type": "execute_result"
    }
   ],
   "source": [
    "limits = [(perc_carbon_house(0),perc_carbon_house(25)),(perc_carbon_house(25),perc_carbon_house(50))\n",
    "          ,(perc_carbon_house(50),perc_carbon_house(75)),(perc_carbon_house(75),perc_carbon_house(100))]\n",
    "colors = ['#77AF9C','#4ea1d3','#FFBC42','#D81159']\n",
    "zip_codes = []\n",
    "scale = 200\n",
    "\n",
    "\n",
    "for i in range(len(limits)):\n",
    "    lim = limits[i]\n",
    "    df_sub = df_carbon.ix[(df_carbon['carbon_tax_per_capita'] > lim[0]) & \n",
    "                           (df_carbon['carbon_tax_per_capita'] < lim[1])]\n",
    "    zip_code = dict(\n",
    "        type = 'scattergeo',\n",
    "        locationmode = 'USA-states',\n",
    "        lon = df_sub['z_long_d'],\n",
    "        lat = df_sub['z_lat_d'],\n",
    "        text = df_sub['text2'],\n",
    "        marker = dict(\n",
    "            size = df_sub['z_households']/scale,\n",
    "            color = colors[i],\n",
    "            line = dict(width=0.5, color='rgb(40,40,40)'),\n",
    "            sizemode = 'area'\n",
    "        ),\n",
    "        name = '{0} - {1}'.format(lim[0],lim[1]) )\n",
    "    zip_codes.append(zip_code)\n",
    "\n",
    "layout = dict(\n",
    "        title = '2014 Carbon Tax Per Household (Quartiles)<br>(Sized by Population)',\n",
    "        showlegend = True,\n",
    "        width=1800,\n",
    "        height=1200,\n",
    "\n",
    "        geo = dict(\n",
    "            scope='usa',\n",
    "            projection=dict( type='albers usa' ),\n",
    "            showland = True,\n",
    "            landcolor = 'rgb(217, 217, 217)',\n",
    "            subunitwidth=1,\n",
    "            countrywidth=1,\n",
    "            subunitcolor=\"rgb(255, 255, 255)\",\n",
    "            countrycolor=\"rgb(255, 255, 255)\"\n",
    "        ),\n",
    "    )\n",
    "\n",
    "fig = dict( data=zip_codes, layout=layout )\n",
    "py.iplot( fig, validate=False, filename='carbon_tax_140' )\n"
   ]
  },
  {
   "cell_type": "markdown",
   "metadata": {},
   "source": [
    "# Map of Carbon Tax as % of Income"
   ]
  },
  {
   "cell_type": "code",
   "execution_count": 33,
   "metadata": {
    "collapsed": false
   },
   "outputs": [
    {
     "data": {
      "text/plain": [
       "0.94"
      ]
     },
     "execution_count": 33,
     "metadata": {},
     "output_type": "execute_result"
    }
   ],
   "source": [
    "df_carbon['tax_per_income']= (df_carbon['carbon_tax_per_capita']  / df_carbon['z_med_inc'])*100\n",
    "\n",
    "def perc_tax_income(n):\n",
    "    carbon = np.array(df_carbon['tax_per_income'].sort_values())\n",
    "    percentile = round(np.nanpercentile(carbon, n), 2)\n",
    "    \n",
    "    return percentile"
   ]
  },
  {
   "cell_type": "code",
   "execution_count": 36,
   "metadata": {
    "collapsed": false
   },
   "outputs": [
    {
     "data": {
      "text/html": [
       "<iframe id=\"igraph\" scrolling=\"no\" style=\"border:none;\" seamless=\"seamless\" src=\"https://plot.ly/~crazysauce/15.embed\" height=\"1200px\" width=\"1800px\"></iframe>"
      ],
      "text/plain": [
       "<plotly.tools.PlotlyDisplay object>"
      ]
     },
     "execution_count": 36,
     "metadata": {},
     "output_type": "execute_result"
    }
   ],
   "source": [
    "limits = [(perc_tax_income(0),perc_tax_income(25)),(perc_tax_income(25),perc_tax_income(50))\n",
    "          ,(perc_tax_income(50),perc_tax_income(75)),(perc_tax_income(75),perc_tax_income(100))]\n",
    "colors = ['#77AF9C','#4ea1d3','#FFBC42','#D81159']\n",
    "zip_codes = []\n",
    "scale = 1000\n",
    "\n",
    "\n",
    "for i in range(len(limits)):\n",
    "    lim = limits[i]\n",
    "    df_sub = df_carbon.ix[(df_carbon['tax_per_income'] > lim[0]) & \n",
    "                           (df_carbon['tax_per_income'] < lim[1])]\n",
    "    zip_code = dict(\n",
    "        type = 'scattergeo',\n",
    "        locationmode = 'USA-states',\n",
    "        lon = df_sub['z_long_d'],\n",
    "        lat = df_sub['z_lat_d'],\n",
    "        text = df_sub['text2'],\n",
    "        marker = dict(\n",
    "            size = df_sub['z_pop']/scale,\n",
    "            color = colors[i],\n",
    "            line = dict(width=0.5, color='rgb(40,40,40)'),\n",
    "            sizemode = 'area'\n",
    "        ),\n",
    "        name = '{0} - {1}'.format(lim[0],lim[1]) )\n",
    "    zip_codes.append(zip_code)\n",
    "\n",
    "layout = dict(\n",
    "        title = '2014 Carbon Tax as Percentage of Income (Quartiles)<br>(Sized by Population)',\n",
    "        showlegend = True,\n",
    "        width=1800,\n",
    "        height = 1200,\n",
    "        geo = dict(\n",
    "            scope='usa',\n",
    "            projection=dict( type='albers usa' ),\n",
    "            showland = True,\n",
    "            landcolor = 'rgb(217, 217, 217)',\n",
    "            subunitwidth=1,\n",
    "            countrywidth=1,\n",
    "            subunitcolor=\"rgb(255, 255, 255)\",\n",
    "            countrycolor=\"rgb(255, 255, 255)\"\n",
    "        ),\n",
    "    )\n",
    "\n",
    "fig = dict( data=zip_codes, layout=layout )\n",
    "py.iplot( fig, validate=False, filename='carbon_tax_140' )\n"
   ]
  },
  {
   "cell_type": "markdown",
   "metadata": {},
   "source": [
    "# Tax on Percentage of Population by Income Levels"
   ]
  },
  {
   "cell_type": "code",
   "execution_count": 66,
   "metadata": {
    "collapsed": false
   },
   "outputs": [],
   "source": [
    "df_carbon['tax_per_income']= (df_carbon['carbon_tax_per_capita']  / df_carbon['z_med_inc'])*100\n",
    "\n",
    "def perc_tax_income_feature(feature):\n",
    "    perc_list = []\n",
    "    carbon = np.array(feature.sort_values())\n",
    "    percentiles = [25, 50, 75, 100]\n",
    "    \n",
    "    for i in percentiles:\n",
    "        perc = round(np.nanpercentile(carbon, i), 3)\n",
    "        perc_list.append(perc)\n",
    "    \n",
    "    return perc_list\n",
    "\n",
    "tax_per_income = df_carbon['tax_per_income']\n",
    "tax_income_perc = perc_tax_income_feature(tax_per_income)\n"
   ]
  },
  {
   "cell_type": "code",
   "execution_count": 67,
   "metadata": {
    "collapsed": false
   },
   "outputs": [],
   "source": [
    "def perc_income_sum(df):\n",
    "    perc_sum = [0]\n",
    "    perc_inc = tax_income_perc\n",
    "    \n",
    "    for i in perc_inc:\n",
    "        pop_sum = sum(df['z_pop'].ix[(df['tax_per_income'] < i)])\n",
    "        perc_sum.append(pop_sum)\n",
    "    \n",
    "    buckets = [y - x for x,y in zip(perc_sum,perc_sum[1:])]\n",
    "    buckets2 = [float(i) for i in buckets]\n",
    "    \n",
    "    perc_buckets = [round(x*100/sum(buckets2),2) for x in buckets2]\n",
    "    \n",
    "    return perc_buckets"
   ]
  },
  {
   "cell_type": "code",
   "execution_count": 68,
   "metadata": {
    "collapsed": false
   },
   "outputs": [],
   "source": [
    "income_less_15k = df_carbon.ix[df_carbon['z_med_inc'] < 15000]\n",
    "income_30k = df_carbon.ix[(df_carbon['z_med_inc'] > 15000) & (df_carbon['z_med_inc'] < 30000)]\n",
    "income_50k = df_carbon.ix[(df_carbon['z_med_inc'] > 30000) & (df_carbon['z_med_inc'] < 50000)]\n",
    "income_75k = df_carbon.ix[(df_carbon['z_med_inc'] > 50000) & (df_carbon['z_med_inc'] < 75000)]\n",
    "income_125k = df_carbon.ix[(df_carbon['z_med_inc'] > 75000) & (df_carbon['z_med_inc'] < 125000)]\n",
    "income_more_125k = df_carbon.ix[df_carbon['z_med_inc'] > 125000]"
   ]
  },
  {
   "cell_type": "code",
   "execution_count": 69,
   "metadata": {
    "collapsed": false
   },
   "outputs": [
    {
     "data": {
      "text/plain": [
       "[0.53, 0.941, 1.506, 42.747]"
      ]
     },
     "execution_count": 69,
     "metadata": {},
     "output_type": "execute_result"
    }
   ],
   "source": [
    "inc_15k = perc_income_sum(income_less_15k)\n",
    "inc_30k = perc_income_sum(income_30k)\n",
    "inc_50k = perc_income_sum(income_50k)\n",
    "inc_75k = perc_income_sum(income_75k)\n",
    "inc_125k = perc_income_sum(income_125k)\n",
    "inc_more = perc_income_sum(income_more_125k)\n",
    "\n",
    "tax_income_perc"
   ]
  },
  {
   "cell_type": "code",
   "execution_count": 70,
   "metadata": {
    "collapsed": false
   },
   "outputs": [
    {
     "data": {
      "text/html": [
       "<iframe id=\"igraph\" scrolling=\"no\" style=\"border:none;\" seamless=\"seamless\" src=\"https://plot.ly/~crazysauce/21.embed\" height=\"525px\" width=\"100%\"></iframe>"
      ],
      "text/plain": [
       "<plotly.tools.PlotlyDisplay object>"
      ]
     },
     "execution_count": 70,
     "metadata": {},
     "output_type": "execute_result"
    }
   ],
   "source": [
    "import plotly.plotly as py\n",
    "import plotly.graph_objs as go\n",
    "\n",
    "top_labels = ['<0.5%','0.5-0.95%', '0.95-1.50%', '1.50-42%']\n",
    "\n",
    "colors = ['#77AF9C','#4ea1d3',\n",
    "          '#FFBC42','#D81159']\n",
    "\n",
    "x_data = [inc_15k, inc_30k, inc_50k, inc_75k, inc_125k, inc_more,[25,25,25,25]]\n",
    "\n",
    "y_data = ['Less than $15k','$15-30k','$30-50k','$50-75k','$75-125k',\n",
    "          'More than $125k','Total Percentiles']\n",
    "\n",
    "traces = []\n",
    "\n",
    "for i in range(0, len(x_data[0])):\n",
    "    for xd, yd in zip(x_data, y_data):\n",
    "        traces.append(go.Bar(\n",
    "            x=xd[i],\n",
    "            y=yd,\n",
    "            orientation='h',\n",
    "            marker=dict(\n",
    "                color=colors[i],\n",
    "                line=dict(\n",
    "                        color='rgb(248, 248, 249)',\n",
    "                        width=1))))\n",
    "\n",
    "layout = go.Layout(\n",
    "    xaxis=dict(\n",
    "        showgrid=False,\n",
    "        showline=False,\n",
    "        showticklabels=False,\n",
    "        zeroline=False,\n",
    "        domain=[0.15, 1]\n",
    "    ),\n",
    "    yaxis=dict(\n",
    "        showgrid=False,\n",
    "        showline=False,\n",
    "        showticklabels=False,\n",
    "        zeroline=False,\n",
    "    ),\n",
    "    barmode='stack',\n",
    "    plot_bgcolor='rgb(248, 248, 255)',\n",
    "    margin=dict(\n",
    "        l=5,\n",
    "        r=5,\n",
    "        t=70,\n",
    "        b=70\n",
    "    ),\n",
    "    showlegend=False,)\n",
    "\n",
    "annotations = []\n",
    "\n",
    "for yd, xd in zip(y_data, x_data):\n",
    "    # labeling the y-axis\n",
    "    annotations.append(dict(xref='paper', yref='y',\n",
    "                            x=0.14, y=yd,\n",
    "                            xanchor='right',\n",
    "                            text=str(yd),\n",
    "                            font=dict(family='Arial', size=14,\n",
    "                                      color='rgb(67, 67, 67)'),\n",
    "                            showarrow=False, align='right'))\n",
    "    # labeling the first percentage of each bar (x_axis)\n",
    "    annotations.append(dict(xref='x', yref='y',\n",
    "                            x=xd[0] / 2, y=yd,\n",
    "                            text=str(xd[0]) + '%',\n",
    "                            font=dict(family='Arial', size=10,\n",
    "                                      color='rgb(248, 248, 255)'),\n",
    "                            showarrow=False))\n",
    "    # labeling the first Likert scale (on the top)\n",
    "    if yd == y_data[-1]:\n",
    "        annotations.append(dict(xref='x', yref='paper',\n",
    "                                x=xd[0] / 2, y=1.1,\n",
    "                                text=top_labels[0],\n",
    "                                font=dict(family='Arial', size=13,\n",
    "                                          color='rgb(67, 67, 67)'),\n",
    "                                showarrow=False))\n",
    "    space = xd[0]\n",
    "    for i in range(1, len(xd)):\n",
    "            # labeling the rest of percentages for each bar (x_axis)\n",
    "            annotations.append(dict(xref='x', yref='y',\n",
    "                                    x=space + (xd[i]/2), y=yd, \n",
    "                                    text=str(xd[i]) + '%',\n",
    "                                    font=dict(family='Arial', size=10,\n",
    "                                              color='rgb(248, 248, 255)'),\n",
    "                                    showarrow=False))\n",
    "            # labeling the Likert scale\n",
    "            if yd == y_data[-1]:\n",
    "                annotations.append(dict(xref='x', yref='paper',\n",
    "                                        x=space + (xd[i]/2), y=1.1,\n",
    "                                        text=top_labels[i],\n",
    "                                        font=dict(family='Arial', size=13,\n",
    "                                                  color='rgb(67, 67, 67)'),\n",
    "                                        showarrow=False))\n",
    "            space += xd[i]\n",
    "\n",
    "layout['annotations'] = annotations\n",
    "\n",
    "fig = go.Figure(data=traces, layout=layout)\n",
    "py.iplot(fig, filename='income-percentage')\n"
   ]
  },
  {
   "cell_type": "code",
   "execution_count": 179,
   "metadata": {
    "collapsed": false
   },
   "outputs": [
    {
     "data": {
      "text/html": [
       "<div>\n",
       "<table border=\"1\" class=\"dataframe\">\n",
       "  <thead>\n",
       "    <tr style=\"text-align: right;\">\n",
       "      <th></th>\n",
       "      <th>z_lat_d</th>\n",
       "      <th>z_long_d</th>\n",
       "      <th>z_land</th>\n",
       "      <th>z_water</th>\n",
       "      <th>z_pop</th>\n",
       "      <th>z_households</th>\n",
       "      <th>z_comm</th>\n",
       "      <th>z_med_inc</th>\n",
       "      <th>z_house_unit</th>\n",
       "      <th>z_comm_miles</th>\n",
       "      <th>z_comm_miles_ph</th>\n",
       "      <th>z_carb_ton_ph</th>\n",
       "      <th>z_pov</th>\n",
       "      <th>z_per_comm</th>\n",
       "      <th>z_carbon_tons</th>\n",
       "      <th>total_carbon_tax</th>\n",
       "      <th>carbon_tax_per_capita</th>\n",
       "      <th>carbon_tax_per_house</th>\n",
       "      <th>tax_per_income</th>\n",
       "    </tr>\n",
       "  </thead>\n",
       "  <tbody>\n",
       "    <tr>\n",
       "      <th>count</th>\n",
       "      <td>26170.000000</td>\n",
       "      <td>26170.000000</td>\n",
       "      <td>26170.000000</td>\n",
       "      <td>26170.000000</td>\n",
       "      <td>26170.000000</td>\n",
       "      <td>26170.000000</td>\n",
       "      <td>26170.000000</td>\n",
       "      <td>24709.00000</td>\n",
       "      <td>26170.000000</td>\n",
       "      <td>2.617000e+04</td>\n",
       "      <td>26031.000000</td>\n",
       "      <td>26031.000000</td>\n",
       "      <td>25548.000000</td>\n",
       "      <td>25758.000000</td>\n",
       "      <td>26031.000000</td>\n",
       "      <td>26031.000000</td>\n",
       "      <td>26031.000000</td>\n",
       "      <td>26031.000000</td>\n",
       "      <td>24708.000000</td>\n",
       "    </tr>\n",
       "    <tr>\n",
       "      <th>mean</th>\n",
       "      <td>38.325589</td>\n",
       "      <td>-88.969161</td>\n",
       "      <td>52.803052</td>\n",
       "      <td>1.253387</td>\n",
       "      <td>11308.166794</td>\n",
       "      <td>4271.586855</td>\n",
       "      <td>2826.670462</td>\n",
       "      <td>55545.24740</td>\n",
       "      <td>4773.933053</td>\n",
       "      <td>4.341181e+07</td>\n",
       "      <td>19028.372806</td>\n",
       "      <td>7.902110</td>\n",
       "      <td>11.037940</td>\n",
       "      <td>78.700978</td>\n",
       "      <td>30729.244942</td>\n",
       "      <td>4302094.291817</td>\n",
       "      <td>544.136045</td>\n",
       "      <td>1106.295368</td>\n",
       "      <td>1.156416</td>\n",
       "    </tr>\n",
       "    <tr>\n",
       "      <th>std</th>\n",
       "      <td>4.924491</td>\n",
       "      <td>14.044077</td>\n",
       "      <td>83.886523</td>\n",
       "      <td>4.402078</td>\n",
       "      <td>14713.765187</td>\n",
       "      <td>5468.304529</td>\n",
       "      <td>3678.442110</td>\n",
       "      <td>23311.76608</td>\n",
       "      <td>5967.497131</td>\n",
       "      <td>5.732325e+07</td>\n",
       "      <td>7298.145215</td>\n",
       "      <td>3.030776</td>\n",
       "      <td>10.359998</td>\n",
       "      <td>13.517806</td>\n",
       "      <td>38626.082451</td>\n",
       "      <td>5407651.543104</td>\n",
       "      <td>504.534513</td>\n",
       "      <td>424.308706</td>\n",
       "      <td>1.020256</td>\n",
       "    </tr>\n",
       "    <tr>\n",
       "      <th>min</th>\n",
       "      <td>17.963613</td>\n",
       "      <td>-158.185151</td>\n",
       "      <td>0.002000</td>\n",
       "      <td>0.000000</td>\n",
       "      <td>0.000000</td>\n",
       "      <td>0.000000</td>\n",
       "      <td>0.000000</td>\n",
       "      <td>3479.00000</td>\n",
       "      <td>0.000000</td>\n",
       "      <td>0.000000e+00</td>\n",
       "      <td>0.000000</td>\n",
       "      <td>0.000000</td>\n",
       "      <td>0.000000</td>\n",
       "      <td>0.000000</td>\n",
       "      <td>0.000000</td>\n",
       "      <td>0.000000</td>\n",
       "      <td>0.000000</td>\n",
       "      <td>0.000000</td>\n",
       "      <td>0.000000</td>\n",
       "    </tr>\n",
       "    <tr>\n",
       "      <th>25%</th>\n",
       "      <td>35.067059</td>\n",
       "      <td>-94.930508</td>\n",
       "      <td>6.954000</td>\n",
       "      <td>0.018000</td>\n",
       "      <td>1119.250000</td>\n",
       "      <td>413.000000</td>\n",
       "      <td>279.250000</td>\n",
       "      <td>40659.00000</td>\n",
       "      <td>521.250000</td>\n",
       "      <td>5.581571e+06</td>\n",
       "      <td>13632.368576</td>\n",
       "      <td>5.661255</td>\n",
       "      <td>4.200000</td>\n",
       "      <td>75.500000</td>\n",
       "      <td>4481.615082</td>\n",
       "      <td>627426.111442</td>\n",
       "      <td>322.617067</td>\n",
       "      <td>792.575717</td>\n",
       "      <td>0.530283</td>\n",
       "    </tr>\n",
       "    <tr>\n",
       "      <th>50%</th>\n",
       "      <td>39.320292</td>\n",
       "      <td>-85.841082</td>\n",
       "      <td>27.855500</td>\n",
       "      <td>0.194000</td>\n",
       "      <td>4348.000000</td>\n",
       "      <td>1625.500000</td>\n",
       "      <td>1086.500000</td>\n",
       "      <td>50923.00000</td>\n",
       "      <td>1931.500000</td>\n",
       "      <td>1.932455e+07</td>\n",
       "      <td>19653.436688</td>\n",
       "      <td>8.161687</td>\n",
       "      <td>8.500000</td>\n",
       "      <td>81.300000</td>\n",
       "      <td>14803.891124</td>\n",
       "      <td>2072544.757309</td>\n",
       "      <td>491.646494</td>\n",
       "      <td>1142.636115</td>\n",
       "      <td>0.941361</td>\n",
       "    </tr>\n",
       "    <tr>\n",
       "      <th>75%</th>\n",
       "      <td>41.697514</td>\n",
       "      <td>-78.917872</td>\n",
       "      <td>66.745500</td>\n",
       "      <td>0.891000</td>\n",
       "      <td>17115.250000</td>\n",
       "      <td>6629.750000</td>\n",
       "      <td>4278.750000</td>\n",
       "      <td>64732.00000</td>\n",
       "      <td>7449.000000</td>\n",
       "      <td>6.003442e+07</td>\n",
       "      <td>24886.945377</td>\n",
       "      <td>10.335060</td>\n",
       "      <td>14.800000</td>\n",
       "      <td>85.800000</td>\n",
       "      <td>43335.972976</td>\n",
       "      <td>6067036.216633</td>\n",
       "      <td>671.301651</td>\n",
       "      <td>1446.908397</td>\n",
       "      <td>1.505808</td>\n",
       "    </tr>\n",
       "    <tr>\n",
       "      <th>max</th>\n",
       "      <td>65.390183</td>\n",
       "      <td>-65.295977</td>\n",
       "      <td>3529.043000</td>\n",
       "      <td>248.932000</td>\n",
       "      <td>113916.000000</td>\n",
       "      <td>43456.000000</td>\n",
       "      <td>28479.000000</td>\n",
       "      <td>236500.00000</td>\n",
       "      <td>47617.000000</td>\n",
       "      <td>5.225270e+08</td>\n",
       "      <td>32496.470500</td>\n",
       "      <td>13.495146</td>\n",
       "      <td>100.000000</td>\n",
       "      <td>100.000000</td>\n",
       "      <td>349412.195861</td>\n",
       "      <td>48917707.420608</td>\n",
       "      <td>26182.854553</td>\n",
       "      <td>1889.320498</td>\n",
       "      <td>42.747052</td>\n",
       "    </tr>\n",
       "  </tbody>\n",
       "</table>\n",
       "</div>"
      ],
      "text/plain": [
       "            z_lat_d      z_long_d        z_land       z_water          z_pop  \\\n",
       "count  26170.000000  26170.000000  26170.000000  26170.000000   26170.000000   \n",
       "mean      38.325589    -88.969161     52.803052      1.253387   11308.166794   \n",
       "std        4.924491     14.044077     83.886523      4.402078   14713.765187   \n",
       "min       17.963613   -158.185151      0.002000      0.000000       0.000000   \n",
       "25%       35.067059    -94.930508      6.954000      0.018000    1119.250000   \n",
       "50%       39.320292    -85.841082     27.855500      0.194000    4348.000000   \n",
       "75%       41.697514    -78.917872     66.745500      0.891000   17115.250000   \n",
       "max       65.390183    -65.295977   3529.043000    248.932000  113916.000000   \n",
       "\n",
       "       z_households        z_comm     z_med_inc  z_house_unit  z_comm_miles  \\\n",
       "count  26170.000000  26170.000000   24709.00000  26170.000000  2.617000e+04   \n",
       "mean    4271.586855   2826.670462   55545.24740   4773.933053  4.341181e+07   \n",
       "std     5468.304529   3678.442110   23311.76608   5967.497131  5.732325e+07   \n",
       "min        0.000000      0.000000    3479.00000      0.000000  0.000000e+00   \n",
       "25%      413.000000    279.250000   40659.00000    521.250000  5.581571e+06   \n",
       "50%     1625.500000   1086.500000   50923.00000   1931.500000  1.932455e+07   \n",
       "75%     6629.750000   4278.750000   64732.00000   7449.000000  6.003442e+07   \n",
       "max    43456.000000  28479.000000  236500.00000  47617.000000  5.225270e+08   \n",
       "\n",
       "       z_comm_miles_ph  z_carb_ton_ph         z_pov    z_per_comm  \\\n",
       "count     26031.000000   26031.000000  25548.000000  25758.000000   \n",
       "mean      19028.372806       7.902110     11.037940     78.700978   \n",
       "std        7298.145215       3.030776     10.359998     13.517806   \n",
       "min           0.000000       0.000000      0.000000      0.000000   \n",
       "25%       13632.368576       5.661255      4.200000     75.500000   \n",
       "50%       19653.436688       8.161687      8.500000     81.300000   \n",
       "75%       24886.945377      10.335060     14.800000     85.800000   \n",
       "max       32496.470500      13.495146    100.000000    100.000000   \n",
       "\n",
       "       z_carbon_tons  total_carbon_tax  carbon_tax_per_capita  \\\n",
       "count   26031.000000      26031.000000           26031.000000   \n",
       "mean    30729.244942    4302094.291817             544.136045   \n",
       "std     38626.082451    5407651.543104             504.534513   \n",
       "min         0.000000          0.000000               0.000000   \n",
       "25%      4481.615082     627426.111442             322.617067   \n",
       "50%     14803.891124    2072544.757309             491.646494   \n",
       "75%     43335.972976    6067036.216633             671.301651   \n",
       "max    349412.195861   48917707.420608           26182.854553   \n",
       "\n",
       "       carbon_tax_per_house  tax_per_income  \n",
       "count          26031.000000    24708.000000  \n",
       "mean            1106.295368        1.156416  \n",
       "std              424.308706        1.020256  \n",
       "min                0.000000        0.000000  \n",
       "25%              792.575717        0.530283  \n",
       "50%             1142.636115        0.941361  \n",
       "75%             1446.908397        1.505808  \n",
       "max             1889.320498       42.747052  "
      ]
     },
     "execution_count": 179,
     "metadata": {},
     "output_type": "execute_result"
    }
   ],
   "source": [
    "df_carbon.describe()"
   ]
  },
  {
   "cell_type": "code",
   "execution_count": null,
   "metadata": {
    "collapsed": true
   },
   "outputs": [],
   "source": []
  }
 ],
 "metadata": {
  "kernelspec": {
   "display_name": "Python 2",
   "language": "python",
   "name": "python2"
  },
  "language_info": {
   "codemirror_mode": {
    "name": "ipython",
    "version": 2
   },
   "file_extension": ".py",
   "mimetype": "text/x-python",
   "name": "python",
   "nbconvert_exporter": "python",
   "pygments_lexer": "ipython2",
   "version": "2.7.11"
  }
 },
 "nbformat": 4,
 "nbformat_minor": 0
}
