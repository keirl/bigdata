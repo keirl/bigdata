{
 "cells": [
  {
   "cell_type": "code",
   "execution_count": 1,
   "metadata": {
    "collapsed": false
   },
   "outputs": [],
   "source": [
    "from pyspark.sql import SparkSession\n",
    "\n",
    "spark = SparkSession \\\n",
    "    .builder \\\n",
    "    .appName(\"Calculate Distances\") \\\n",
    "    .config(\"spark.some.config.option\", \"some-value\") \\\n",
    "    .getOrCreate()"
   ]
  },
  {
   "cell_type": "code",
   "execution_count": 27,
   "metadata": {
    "collapsed": false
   },
   "outputs": [
    {
     "name": "stdout",
     "output_type": "stream",
     "text": [
      "big-data-carbon-tax\n",
      "12878_33598.json\n",
      "ACS_14_5YR_DP03.zip\n",
      "Brucie Springsteen .htm\n",
      "DEC_10_DP_DPDP1.zip\n",
      "Gaz_ua.zip\n",
      "Gaz_zcta_national.zip\n",
      "bing_results/601_30115_meta.json\n",
      "bing_results/601_3034_meta.json\n",
      "bing_results/601_35866_meta.json\n",
      "bing_results/601_43453_meta.json\n",
      "bing_results/601_55738_meta.json\n",
      "bing_results/601_631_meta.json\n",
      "bing_results/601_70642_meta.json\n",
      "bing_results/601_78985_meta.json\n",
      "bing_results/601_79093_meta.json\n",
      "bing_results/601_97561_meta.json\n",
      "rawdata/bing_results/12878_33598.json\n"
     ]
    }
   ],
   "source": [
    "# Inspired by Boto3 documentation\n",
    "import boto3\n",
    "s3 = boto3.resource('s3')\n",
    "for bucket in s3.buckets.all():\n",
    "    print(bucket.name)\n",
    "    for obj in bucket.objects.all():\n",
    "        print(obj.key)"
   ]
  },
  {
   "cell_type": "code",
   "execution_count": 3,
   "metadata": {
    "collapsed": false,
    "scrolled": true
   },
   "outputs": [
    {
     "name": "stdout",
     "output_type": "stream",
     "text": [
      "root\n",
      " |-- z_id: integer (nullable = true)\n",
      " |-- z_pop: integer (nullable = true)\n",
      " |-- z_house_unit: integer (nullable = true)\n",
      " |-- z_land: double (nullable = true)\n",
      " |-- z_water: double (nullable = true)\n",
      " |-- z_lat_d: double (nullable = true)\n",
      " |-- z_long_d: double (nullable = true)\n",
      " |-- z_lat_r: double (nullable = true)\n",
      " |-- z_long_r: double (nullable = true)\n",
      " |-- m_id: integer (nullable = true)\n",
      " |-- name: string (nullable = true)\n",
      " |-- UATYPE: string (nullable = true)\n",
      " |-- m_pop: integer (nullable = true)\n",
      " |-- m_house_unit: integer (nullable = true)\n",
      " |-- m_land: double (nullable = true)\n",
      " |-- m_water: double (nullable = true)\n",
      " |-- m_lat_d: double (nullable = true)\n",
      " |-- m_long_d: double (nullable = true)\n",
      " |-- m_lat_r: double (nullable = true)\n",
      " |-- m_long_r: double (nullable = true)\n",
      " |-- dist: double (nullable = true)\n",
      "\n"
     ]
    }
   ],
   "source": [
    "dfDist = spark.read.parquet(\"../processeddata/distances.parquet\")\n",
    "dfDist.printSchema()"
   ]
  },
  {
   "cell_type": "code",
   "execution_count": 30,
   "metadata": {
    "collapsed": false
   },
   "outputs": [
    {
     "name": "stdout",
     "output_type": "stream",
     "text": [
      "111727\n"
     ]
    }
   ],
   "source": [
    "dfNearby = dfDist.where(dfDist.dist<60).orderBy('z_id','m_id')\n",
    "print(dfNearby.count())"
   ]
  },
  {
   "cell_type": "code",
   "execution_count": 35,
   "metadata": {
    "collapsed": false,
    "scrolled": false
   },
   "outputs": [],
   "source": [
    "# https://realpython.com/blog/python/api-integration-in-python/\n",
    "# http://docs.python-requests.org/en/master/user/quickstart/\n",
    "\n",
    "import os\n",
    "import boto3\n",
    "\n",
    "def upload_file(row):\n",
    "    s3 = boto3.client('s3')\n",
    "    \n",
    "    local_path = '../rawdata/bing_results/'\n",
    "    remote_path = 'bing_results/'\n",
    "    \n",
    "    fn_root = str(row['z_id'])+'_'+str(row['m_id'])\n",
    "    fn_local = local_path+fn_root+'.json'\n",
    "    fn_local_meta = local_path+fn_root+'_meta.json'\n",
    "    fn_remote = remote_path+fn_root+'.json'\n",
    "    fn_remote_meta = remote_path+fn_root+'_meta.json'\n",
    "    \n",
    "    if os.path.isfile(fn_local):\n",
    "        with open(fn_local, \"rb\") as f:\n",
    "            s3.upload_fileobj(f, \"big-data-carbon-tax\", fn_remote)\n",
    "        with open(fn_local_meta, \"rb\") as f:\n",
    "            s3.upload_fileobj(f, \"big-data-carbon-tax\", fn_remote_meta)\n",
    "        \n",
    "        print('Sent',fn_local)\n",
    "        \n",
    "    return \n",
    "\n",
    "r = dfNearby.foreach(upload_file)\n",
    "\n"
   ]
  },
  {
   "cell_type": "code",
   "execution_count": 34,
   "metadata": {
    "collapsed": false,
    "scrolled": true
   },
   "outputs": [],
   "source": [
    "import boto3\n",
    "s3 = boto3.client('s3')\n",
    "with open('../processeddata/driv_dist.parquet.tar.gz', \"rb\") as f:\n",
    "    s3.upload_fileobj(f, \"big-data-carbon-tax\", 'bing_results/driv_dist.parquet.tar.gz')"
   ]
  },
  {
   "cell_type": "code",
   "execution_count": 1,
   "metadata": {
    "collapsed": true
   },
   "outputs": [],
   "source": [
    "import boto3\n",
    "s3 = boto3.client('s3')\n",
    "with open('../rawdata/ACS_15_5YR_DP03b.csv', \"rb\") as f:\n",
    "    s3.upload_fileobj(f, \"big-data-carbon-tax\", 'bing_results/ACS_15_5YR_DP03b.csv')"
   ]
  },
  {
   "cell_type": "code",
   "execution_count": 2,
   "metadata": {
    "collapsed": true
   },
   "outputs": [],
   "source": [
    "import boto3\n",
    "s3 = boto3.client('s3')\n",
    "with open('../rawdata/ACS_15_5YR_S1903b.csv', \"rb\") as f:\n",
    "    s3.upload_fileobj(f, \"big-data-carbon-tax\", 'bing_results/ACS_15_5YR_S1903b.csv')"
   ]
  }
 ],
 "metadata": {
  "kernelspec": {
   "display_name": "Python 3",
   "language": "python",
   "name": "python3"
  },
  "language_info": {
   "codemirror_mode": {
    "name": "ipython",
    "version": 3
   },
   "file_extension": ".py",
   "mimetype": "text/x-python",
   "name": "python",
   "nbconvert_exporter": "python",
   "pygments_lexer": "ipython3",
   "version": "3.5.2"
  }
 },
 "nbformat": 4,
 "nbformat_minor": 1
}
