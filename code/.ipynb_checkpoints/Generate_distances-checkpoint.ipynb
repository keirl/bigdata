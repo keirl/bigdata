{
 "cells": [
  {
   "cell_type": "code",
   "execution_count": 1,
   "metadata": {
    "collapsed": true
   },
   "outputs": [],
   "source": [
    "from pyspark.sql import SparkSession\n",
    "\n",
    "spark = SparkSession \\\n",
    "    .builder \\\n",
    "    .appName(\"Calculate Distances\") \\\n",
    "    .config(\"spark.some.config.option\", \"some-value\") \\\n",
    "    .getOrCreate()"
   ]
  },
  {
   "cell_type": "code",
   "execution_count": 4,
   "metadata": {
    "collapsed": false
   },
   "outputs": [
    {
     "name": "stdout",
     "output_type": "stream",
     "text": [
      "root\n",
      " |-- GEOID: integer (nullable = true)\n",
      " |-- NAME: string (nullable = true)\n",
      " |-- UATYPE: string (nullable = true)\n",
      " |-- POP10: integer (nullable = true)\n",
      " |-- HU10: integer (nullable = true)\n",
      " |-- ALAND: long (nullable = true)\n",
      " |-- AWATER: integer (nullable = true)\n",
      " |-- ALAND_SQMI: double (nullable = true)\n",
      " |-- AWATER_SQMI: double (nullable = true)\n",
      " |-- INTPTLAT: double (nullable = true)\n",
      " |-- INTPTLONG: double (nullable = true)\n",
      "\n",
      "root\n",
      " |-- GEOID: integer (nullable = true)\n",
      " |-- POP10: integer (nullable = true)\n",
      " |-- HU10: integer (nullable = true)\n",
      " |-- ALAND: long (nullable = true)\n",
      " |-- AWATER: long (nullable = true)\n",
      " |-- ALAND_SQMI: double (nullable = true)\n",
      " |-- AWATER_SQMI: double (nullable = true)\n",
      " |-- INTPTLAT: double (nullable = true)\n",
      " |-- INTPTLONG: double (nullable = true)\n",
      "\n"
     ]
    }
   ],
   "source": [
    "import string\n",
    "dfMetroAreasRaw = spark.read.load(\"../rawdata/Gaz_ua_national.txt\", format=\"csv\", delimiter=\"\\t\", header=True, inferSchema=True)\n",
    "dfZCTAsRaw = spark.read.load(\"../rawdata/Gaz_zcta_national.txt\", format=\"csv\", delimiter=\"\\t\", header=True, inferSchema=True)\n",
    "dfMetroAreasRaw = dfMetroAreasRaw.withColumnRenamed(dfMetroAreasRaw.columns[-1],dfMetroAreasRaw.columns[-1].strip(string.whitespace))\n",
    "dfZCTAsRaw = dfZCTAsRaw.withColumnRenamed(dfZCTAsRaw.columns[-1],dfZCTAsRaw.columns[-1].strip(string.whitespace))\n",
    "dfMetroAreasRaw.printSchema()\n",
    "dfZCTAsRaw.printSchema()"
   ]
  },
  {
   "cell_type": "code",
   "execution_count": 71,
   "metadata": {
    "collapsed": true
   },
   "outputs": [],
   "source": [
    "import numpy as np\n",
    "def deg2rad(deg):\n",
    "    return deg/360*(2*np.pi)\n",
    "\n"
   ]
  },
  {
   "cell_type": "code",
   "execution_count": 88,
   "metadata": {
    "collapsed": false
   },
   "outputs": [
    {
     "name": "stdout",
     "output_type": "stream",
     "text": [
      "3592\n",
      "+----+--------------------+------+------+------------+-------+-------+---------+-----------+-------------------+-------------------+\n",
      "|m_id|                name|UATYPE| m_pop|m_house_unit| m_land|m_water|  m_lat_d|   m_long_d|            m_lat_r|           m_long_r|\n",
      "+----+--------------------+------+------+------------+-------+-------+---------+-----------+-------------------+-------------------+\n",
      "|  37|Abbeville, LA Urb...|     C| 19824|        8460| 11.283|  0.116|29.967602| -92.098219| 0.5230333238272378|-1.6074171567727997|\n",
      "|  64|Abbeville, SC Urb...|     C|  5243|        2578|  4.369|  0.008|34.179237| -82.379726| 0.5965402214694692|-1.4377974555907782|\n",
      "|  91|Abbotsford, WI Ur...|     C|  3966|        1616|  2.071|  0.005|44.948612| -90.315875| 0.7845012736014334|-1.5763093855696337|\n",
      "| 118|Aberdeen, MS Urba...|     C|  4666|        2050|  2.864|   0.02|33.824742| -88.554591| 0.5903531165376119|-1.5455691807069378|\n",
      "| 145|Aberdeen, SD Urba...|     C| 25977|       12114| 12.742|  0.096|45.463186| -98.471033| 0.7934822841465907|-1.7186437436899895|\n",
      "| 172|Aberdeen, WA Urba...|     C| 29856|       13139| 15.443|  0.745|46.976365|-123.796056|  0.819892239868626| -2.160648778183281|\n",
      "| 199|Aberdeen--Bel Air...|     U|213751|       83721|131.131|  3.794|39.508977|  -76.30343| 0.6895617327447118|-1.3317460840650168|\n",
      "| 226|Abernathy, TX Urb...|     C|  2785|        1124|  1.178|  0.005|33.830523|-101.846278| 0.5904540140216695|-1.7775528820014654|\n",
      "| 253|Abilene, KS Urban...|     C|  7054|        3238|  3.387|  0.001| 38.92106| -97.220754| 0.6793006453662641| -1.696822258571447|\n",
      "| 280|Abilene, TX Urban...|     U|110421|       46732| 54.732|  0.382|32.428466| -99.747188| 0.5659835030710355|-1.7409168502057775|\n",
      "| 334|Abingdon, IL Urba...|     C|  3389|        1483|  1.441|    0.0|40.804182|  -90.40152| 0.7121673244830048|-1.5778041728075043|\n",
      "| 388|Ada, OH Urban Clu...|     C|  5945|        1906|  1.841|    0.0|40.767274| -83.824641| 0.7115231583626788| -1.463015979752232|\n",
      "| 415|Ada, OK Urban Clu...|     C| 17400|        8086| 11.936|  0.034|34.774803| -96.669103| 0.6069348090824016| -1.687194132299528|\n",
      "| 450|Adams, NY Urban C...|     C|  2542|        1100|  1.972|  0.005|43.808664| -76.021178| 0.7646054276999091|-1.3268198573446779|\n",
      "| 469|Adel, GA Urban Cl...|     C|  6986|        2990|  6.036|  0.079|31.145731| -83.429099|  0.543595553890466|-1.4561124695223087|\n",
      "| 496|Adel, IA Urban Cl...|     C|  3170|        1317|  1.785|    0.0|41.612218| -94.020971| 0.7262702131576497|-1.6409755098721055|\n",
      "| 550|Adjuntas, PR Urba...|     C| 11122|        4637|  7.892|   0.06|18.166604| -66.729934|0.31706705370597194|-1.1646570579385096|\n",
      "| 577|Adrian, MI Urban ...|     C| 44823|       18178| 24.023|  0.237|41.914086| -84.049778|   0.73153880366406|-1.4669453616702945|\n",
      "| 631|Aguadilla--Isabel...|     U|306196|      138431|239.274|  0.348|18.369286| -67.040259|0.32060452194049904|-1.1700732509397613|\n",
      "| 658|Ahoskie, NC Urban...|     C|  4951|        2267|  2.916|    0.0|36.287865| -76.983282|  0.633342722769212|-1.3436117398912855|\n",
      "+----+--------------------+------+------+------------+-------+-------+---------+-----------+-------------------+-------------------+\n",
      "only showing top 20 rows\n",
      "\n"
     ]
    }
   ],
   "source": [
    "dfMetroAreas = dfMetroAreasRaw.select('GEOID','NAME','UATYPE','POP10','HU10','ALAND_SQMI',\\\n",
    "                                      'AWATER_SQMI','INTPTLAT','INTPTLONG')\\\n",
    "                            .withColumnRenamed('GEOID','m_id')\\\n",
    "                            .withColumnRenamed('NAME', 'name')\\\n",
    "                            .withColumnRenamed('POP10','m_pop')\\\n",
    "                            .withColumnRenamed('HU10','m_house_unit')\\\n",
    "                            .withColumnRenamed('ALAND_SQMI','m_land')\\\n",
    "                            .withColumnRenamed('AWATER_SQMI','m_water')\\\n",
    "                            .withColumnRenamed('INTPTLAT', 'm_lat_d')\\\n",
    "                            .withColumnRenamed('INTPTLONG', 'm_long_d')\n",
    "\n",
    "dfMetroAreas = dfMetroAreas.withColumn('m_lat_r', deg2rad(dfMetroAreas.m_lat_d)).withColumn('m_long_r', deg2rad(dfMetroAreas.m_long_d))\n",
    "print(dfMetroAreas.count())\n",
    "dfMetroAreas.show()"
   ]
  },
  {
   "cell_type": "code",
   "execution_count": 89,
   "metadata": {
    "collapsed": false
   },
   "outputs": [
    {
     "name": "stdout",
     "output_type": "stream",
     "text": [
      "33120\n",
      "+----+-----+------------+------+-------+---------+----------+-------------------+-------------------+\n",
      "|z_id|z_pop|z_house_unit|z_land|z_water|  z_lat_d|  z_long_d|            z_lat_r|           z_long_r|\n",
      "+----+-----+------------+------+-------+---------+----------+-------------------+-------------------+\n",
      "| 601|18570|        7744|64.348|  0.309|18.180555|-66.749961|0.31731054458991764|-1.1650065950278068|\n",
      "| 602|41520|       18073|30.613|  1.717|18.362268| -67.17613| 0.3204820347335941|-1.1724446472477383|\n",
      "| 603|54689|       25653|31.614|  0.071|18.455183|-67.119887| 0.3221037074080847|-1.1714630217165392|\n",
      "| 606| 6615|        2877|42.309|  0.005|18.158345|-66.932911|0.31692290696304976|-1.1681996748943304|\n",
      "| 610|29016|       12618|35.916|  1.611|18.290955|-67.125868| 0.3192373880841194| -1.171567409859101|\n",
      "| 612|67010|       30992|67.609|  3.787|18.402239|  -66.7114| 0.3211796602889088|-1.1643335786149451|\n",
      "| 616|11017|        4896|11.533|  0.058|18.420412|-66.671979| 0.3214968389738737|-1.1636455523705163|\n",
      "| 617|24597|       10594|15.192|   1.54|18.445147|-66.559696| 0.3219285461643545|-1.1616858443264997|\n",
      "| 622| 7853|        8714|28.987|  0.654|17.991245|-67.153993| 0.3140064617829672|-1.1720582837112243|\n",
      "| 623|43061|       21426| 37.98|  0.631|18.083435|-67.153877| 0.3156154808203808| -1.172056259129292|\n",
      "| 624|26241|        9905|43.163|  0.975|18.063275|-66.715966|0.31526362244317874| -1.164413270348591|\n",
      "| 627|35159|       14431|46.355|  1.354| 18.41503|-66.861879| 0.3214029053535314|-1.1669599326200537|\n",
      "| 631| 1852|         842| 4.021|  0.259|18.190607|-66.832041|0.31748598508632814|-1.1664391612778438|\n",
      "| 637|25287|       10962| 34.45|   0.01|18.076713|-66.947389| 0.3154981597880617| -1.168452363663434|\n",
      "| 638|18941|        7805|66.045|   0.19|18.291088|-66.513306|0.31923970937202456|-1.1608761860864993|\n",
      "| 641|31191|       13358|93.528|  1.338|18.262962| -66.71402|0.31874881806660865|-1.1643793062413474|\n",
      "| 646|38199|       16699|  20.7|  1.282|18.433167|-66.285941|0.32171945571996563|-1.1569079182327024|\n",
      "| 647| 6172|        3482|15.205|  3.094|17.963613|-66.947127| 0.3135241924040561|-1.1684477909007935|\n",
      "| 650|14998|        6124|30.522|  0.215|18.349416|-66.578079| 0.3202577250181278|-1.1620066882028939|\n",
      "| 652| 4715|        1947| 6.914|  0.006|18.451934|-66.603113| 0.3220470016606874| -1.162443613927838|\n",
      "+----+-----+------------+------+-------+---------+----------+-------------------+-------------------+\n",
      "only showing top 20 rows\n",
      "\n"
     ]
    }
   ],
   "source": [
    "dfZCTAs = dfZCTAsRaw.select('GEOID','POP10','HU10','ALAND_SQMI','AWATER_SQMI','INTPTLAT','INTPTLONG')\\\n",
    "                .withColumnRenamed('GEOID','z_id')\\\n",
    "                .withColumnRenamed('POP10','z_pop')\\\n",
    "                .withColumnRenamed('HU10','z_house_unit')\\\n",
    "                .withColumnRenamed('ALAND_SQMI','z_land')\\\n",
    "                .withColumnRenamed('AWATER_SQMI','z_water')\\\n",
    "                .withColumnRenamed('INTPTLAT', 'z_lat_d')\\\n",
    "                .withColumnRenamed('INTPTLONG', 'z_long_d')\n",
    "\n",
    "\n",
    "dfZCTAs = dfZCTAs.withColumn('z_lat_r', deg2rad(dfZCTAs.z_lat_d)).withColumn('z_long_r', deg2rad(dfZCTAs.z_long_d))\n",
    "print(dfZCTAs.count())\n",
    "dfZCTAs.show()"
   ]
  },
  {
   "cell_type": "code",
   "execution_count": 90,
   "metadata": {
    "collapsed": false
   },
   "outputs": [
    {
     "name": "stdout",
     "output_type": "stream",
     "text": [
      "33120 3592 118967040 118967040\n",
      "root\n",
      " |-- z_id: integer (nullable = true)\n",
      " |-- z_pop: integer (nullable = true)\n",
      " |-- z_house_unit: integer (nullable = true)\n",
      " |-- z_land: double (nullable = true)\n",
      " |-- z_water: double (nullable = true)\n",
      " |-- z_lat_d: double (nullable = true)\n",
      " |-- z_long_d: double (nullable = true)\n",
      " |-- z_lat_r: double (nullable = true)\n",
      " |-- z_long_r: double (nullable = true)\n",
      " |-- m_id: integer (nullable = true)\n",
      " |-- name: string (nullable = true)\n",
      " |-- UATYPE: string (nullable = true)\n",
      " |-- m_pop: integer (nullable = true)\n",
      " |-- m_house_unit: integer (nullable = true)\n",
      " |-- m_land: double (nullable = true)\n",
      " |-- m_water: double (nullable = true)\n",
      " |-- m_lat_d: double (nullable = true)\n",
      " |-- m_long_d: double (nullable = true)\n",
      " |-- m_lat_r: double (nullable = true)\n",
      " |-- m_long_r: double (nullable = true)\n",
      "\n",
      "+----+-----+------------+------+-------+---------+----------+-------------------+-------------------+----+--------------------+------+------+------------+-------+-------+---------+-----------+-------------------+-------------------+\n",
      "|z_id|z_pop|z_house_unit|z_land|z_water|  z_lat_d|  z_long_d|            z_lat_r|           z_long_r|m_id|                name|UATYPE| m_pop|m_house_unit| m_land|m_water|  m_lat_d|   m_long_d|            m_lat_r|           m_long_r|\n",
      "+----+-----+------------+------+-------+---------+----------+-------------------+-------------------+----+--------------------+------+------+------------+-------+-------+---------+-----------+-------------------+-------------------+\n",
      "| 601|18570|        7744|64.348|  0.309|18.180555|-66.749961|0.31731054458991764|-1.1650065950278068|  37|Abbeville, LA Urb...|     C| 19824|        8460| 11.283|  0.116|29.967602| -92.098219| 0.5230333238272378|-1.6074171567727997|\n",
      "| 601|18570|        7744|64.348|  0.309|18.180555|-66.749961|0.31731054458991764|-1.1650065950278068|  64|Abbeville, SC Urb...|     C|  5243|        2578|  4.369|  0.008|34.179237| -82.379726| 0.5965402214694692|-1.4377974555907782|\n",
      "| 601|18570|        7744|64.348|  0.309|18.180555|-66.749961|0.31731054458991764|-1.1650065950278068|  91|Abbotsford, WI Ur...|     C|  3966|        1616|  2.071|  0.005|44.948612| -90.315875| 0.7845012736014334|-1.5763093855696337|\n",
      "| 601|18570|        7744|64.348|  0.309|18.180555|-66.749961|0.31731054458991764|-1.1650065950278068| 118|Aberdeen, MS Urba...|     C|  4666|        2050|  2.864|   0.02|33.824742| -88.554591| 0.5903531165376119|-1.5455691807069378|\n",
      "| 601|18570|        7744|64.348|  0.309|18.180555|-66.749961|0.31731054458991764|-1.1650065950278068| 145|Aberdeen, SD Urba...|     C| 25977|       12114| 12.742|  0.096|45.463186| -98.471033| 0.7934822841465907|-1.7186437436899895|\n",
      "| 601|18570|        7744|64.348|  0.309|18.180555|-66.749961|0.31731054458991764|-1.1650065950278068| 172|Aberdeen, WA Urba...|     C| 29856|       13139| 15.443|  0.745|46.976365|-123.796056|  0.819892239868626| -2.160648778183281|\n",
      "| 601|18570|        7744|64.348|  0.309|18.180555|-66.749961|0.31731054458991764|-1.1650065950278068| 199|Aberdeen--Bel Air...|     U|213751|       83721|131.131|  3.794|39.508977|  -76.30343| 0.6895617327447118|-1.3317460840650168|\n",
      "| 601|18570|        7744|64.348|  0.309|18.180555|-66.749961|0.31731054458991764|-1.1650065950278068| 226|Abernathy, TX Urb...|     C|  2785|        1124|  1.178|  0.005|33.830523|-101.846278| 0.5904540140216695|-1.7775528820014654|\n",
      "| 601|18570|        7744|64.348|  0.309|18.180555|-66.749961|0.31731054458991764|-1.1650065950278068| 253|Abilene, KS Urban...|     C|  7054|        3238|  3.387|  0.001| 38.92106| -97.220754| 0.6793006453662641| -1.696822258571447|\n",
      "| 601|18570|        7744|64.348|  0.309|18.180555|-66.749961|0.31731054458991764|-1.1650065950278068| 280|Abilene, TX Urban...|     U|110421|       46732| 54.732|  0.382|32.428466| -99.747188| 0.5659835030710355|-1.7409168502057775|\n",
      "| 601|18570|        7744|64.348|  0.309|18.180555|-66.749961|0.31731054458991764|-1.1650065950278068| 334|Abingdon, IL Urba...|     C|  3389|        1483|  1.441|    0.0|40.804182|  -90.40152| 0.7121673244830048|-1.5778041728075043|\n",
      "| 601|18570|        7744|64.348|  0.309|18.180555|-66.749961|0.31731054458991764|-1.1650065950278068| 388|Ada, OH Urban Clu...|     C|  5945|        1906|  1.841|    0.0|40.767274| -83.824641| 0.7115231583626788| -1.463015979752232|\n",
      "| 601|18570|        7744|64.348|  0.309|18.180555|-66.749961|0.31731054458991764|-1.1650065950278068| 415|Ada, OK Urban Clu...|     C| 17400|        8086| 11.936|  0.034|34.774803| -96.669103| 0.6069348090824016| -1.687194132299528|\n",
      "| 601|18570|        7744|64.348|  0.309|18.180555|-66.749961|0.31731054458991764|-1.1650065950278068| 450|Adams, NY Urban C...|     C|  2542|        1100|  1.972|  0.005|43.808664| -76.021178| 0.7646054276999091|-1.3268198573446779|\n",
      "| 601|18570|        7744|64.348|  0.309|18.180555|-66.749961|0.31731054458991764|-1.1650065950278068| 469|Adel, GA Urban Cl...|     C|  6986|        2990|  6.036|  0.079|31.145731| -83.429099|  0.543595553890466|-1.4561124695223087|\n",
      "| 601|18570|        7744|64.348|  0.309|18.180555|-66.749961|0.31731054458991764|-1.1650065950278068| 496|Adel, IA Urban Cl...|     C|  3170|        1317|  1.785|    0.0|41.612218| -94.020971| 0.7262702131576497|-1.6409755098721055|\n",
      "| 601|18570|        7744|64.348|  0.309|18.180555|-66.749961|0.31731054458991764|-1.1650065950278068| 550|Adjuntas, PR Urba...|     C| 11122|        4637|  7.892|   0.06|18.166604| -66.729934|0.31706705370597194|-1.1646570579385096|\n",
      "| 601|18570|        7744|64.348|  0.309|18.180555|-66.749961|0.31731054458991764|-1.1650065950278068| 577|Adrian, MI Urban ...|     C| 44823|       18178| 24.023|  0.237|41.914086| -84.049778|   0.73153880366406|-1.4669453616702945|\n",
      "| 601|18570|        7744|64.348|  0.309|18.180555|-66.749961|0.31731054458991764|-1.1650065950278068| 631|Aguadilla--Isabel...|     U|306196|      138431|239.274|  0.348|18.369286| -67.040259|0.32060452194049904|-1.1700732509397613|\n",
      "| 601|18570|        7744|64.348|  0.309|18.180555|-66.749961|0.31731054458991764|-1.1650065950278068| 658|Ahoskie, NC Urban...|     C|  4951|        2267|  2.916|    0.0|36.287865| -76.983282|  0.633342722769212|-1.3436117398912855|\n",
      "+----+-----+------------+------+-------+---------+----------+-------------------+-------------------+----+--------------------+------+------+------------+-------+-------+---------+-----------+-------------------+-------------------+\n",
      "only showing top 20 rows\n",
      "\n"
     ]
    }
   ],
   "source": [
    "dfDist = dfZCTAs.join(dfMetroAreas)\n",
    "print(dfZCTAs.count(),dfMetroAreas.count(),dfZCTAs.count()*dfMetroAreas.count(),dfDist.count())\n",
    "dfDist.printSchema()\n",
    "dfDist.show()\n"
   ]
  },
  {
   "cell_type": "code",
   "execution_count": 91,
   "metadata": {
    "collapsed": false
   },
   "outputs": [],
   "source": [
    "# Wikipedia, \"Great-circle distance,\" https://en.wikipedia.org/wiki/Great-circle_distance retrieved 12/9/2016\n",
    "from pyspark.sql.functions import acos, cos, sin, abs\n",
    "\n",
    "RMETERS = 6371000 #meters\n",
    "RMILES = RMETERS*0.000621371\n",
    "\n",
    "dfDist = dfDist.withColumn('dist',acos(\n",
    "                            sin(dfDist.z_lat_r)*sin(dfDist.m_lat_r)+\n",
    "                            cos(dfDist.z_lat_r)*cos(dfDist.m_lat_r)*cos(abs(dfDist.z_long_r-dfDist.m_long_r))\n",
    "                            )*RMILES)\n",
    "\n"
   ]
  },
  {
   "cell_type": "code",
   "execution_count": null,
   "metadata": {
    "collapsed": true
   },
   "outputs": [],
   "source": [
    "dfDist.write.save(\"../processeddata/distances.parquet\",mode='overwrite')"
   ]
  }
 ],
 "metadata": {
  "kernelspec": {
   "display_name": "Python 3",
   "language": "python",
   "name": "python3"
  },
  "language_info": {
   "codemirror_mode": {
    "name": "ipython",
    "version": 3
   },
   "file_extension": ".py",
   "mimetype": "text/x-python",
   "name": "python",
   "nbconvert_exporter": "python",
   "pygments_lexer": "ipython3",
   "version": "3.5.2"
  }
 },
 "nbformat": 4,
 "nbformat_minor": 1
}
