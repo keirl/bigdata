{
 "cells": [
  {
   "cell_type": "code",
   "execution_count": 2,
   "metadata": {
    "collapsed": true
   },
   "outputs": [],
   "source": [
    "from pyspark.sql import SparkSession\n",
    "\n",
    "spark = SparkSession \\\n",
    "    .builder \\\n",
    "    .appName(\"Calculate Distances\") \\\n",
    "    .config(\"spark.some.config.option\", \"some-value\") \\\n",
    "    .getOrCreate()"
   ]
  },
  {
   "cell_type": "code",
   "execution_count": 5,
   "metadata": {
    "collapsed": false
   },
   "outputs": [
    {
     "name": "stdout",
     "output_type": "stream",
     "text": [
      "root\n",
      " |-- UATYPE: string (nullable = true)\n",
      " |-- ddist: double (nullable = true)\n",
      " |-- dist: double (nullable = true)\n",
      " |-- id: string (nullable = true)\n",
      " |-- m_house_unit: long (nullable = true)\n",
      " |-- m_id: long (nullable = true)\n",
      " |-- m_land: double (nullable = true)\n",
      " |-- m_lat_d: double (nullable = true)\n",
      " |-- m_lat_r: double (nullable = true)\n",
      " |-- m_long_d: double (nullable = true)\n",
      " |-- m_long_r: double (nullable = true)\n",
      " |-- m_pop: long (nullable = true)\n",
      " |-- m_water: double (nullable = true)\n",
      " |-- name: string (nullable = true)\n",
      " |-- z_house_unit: long (nullable = true)\n",
      " |-- z_id: long (nullable = true)\n",
      " |-- z_land: double (nullable = true)\n",
      " |-- z_lat_d: double (nullable = true)\n",
      " |-- z_lat_r: double (nullable = true)\n",
      " |-- z_long_d: double (nullable = true)\n",
      " |-- z_long_r: double (nullable = true)\n",
      " |-- z_pop: long (nullable = true)\n",
      " |-- z_water: double (nullable = true)\n",
      "\n"
     ]
    }
   ],
   "source": [
    "dfDist = spark.read.parquet(\"../processeddata/driv_dist.parquet\")\n",
    "dfDist.printSchema()"
   ]
  },
  {
   "cell_type": "code",
   "execution_count": 16,
   "metadata": {
    "collapsed": false
   },
   "outputs": [
    {
     "name": "stdout",
     "output_type": "stream",
     "text": [
      "root\n",
      " |-- GEOid: string (nullable = true)\n",
      " |-- GEOid2: integer (nullable = true)\n",
      " |-- GEOdisplaylabel: string (nullable = true)\n",
      " |-- HC01_EST_VC02: integer (nullable = true)\n",
      " |-- HC01_MOE_VC02: integer (nullable = true)\n",
      " |-- HC02_EST_VC02: integer (nullable = true)\n",
      " |-- HC02_MOE_VC02: integer (nullable = true)\n",
      " |-- HC01_EST_VC04: double (nullable = true)\n",
      " |-- HC01_MOE_VC04: double (nullable = true)\n",
      " |-- HC02_EST_VC04: integer (nullable = true)\n",
      " |-- HC02_MOE_VC04: integer (nullable = true)\n",
      " |-- HC01_EST_VC05: double (nullable = true)\n",
      " |-- HC01_MOE_VC05: double (nullable = true)\n",
      " |-- HC02_EST_VC05: integer (nullable = true)\n",
      " |-- HC02_MOE_VC05: integer (nullable = true)\n",
      " |-- HC01_EST_VC06: double (nullable = true)\n",
      " |-- HC01_MOE_VC06: double (nullable = true)\n",
      " |-- HC02_EST_VC06: integer (nullable = true)\n",
      " |-- HC02_MOE_VC06: integer (nullable = true)\n",
      " |-- HC01_EST_VC07: double (nullable = true)\n",
      " |-- HC01_MOE_VC07: double (nullable = true)\n",
      " |-- HC02_EST_VC07: integer (nullable = true)\n",
      " |-- HC02_MOE_VC07: integer (nullable = true)\n",
      " |-- HC01_EST_VC08: double (nullable = true)\n",
      " |-- HC01_MOE_VC08: double (nullable = true)\n",
      " |-- HC02_EST_VC08: integer (nullable = true)\n",
      " |-- HC02_MOE_VC08: integer (nullable = true)\n",
      " |-- HC01_EST_VC09: double (nullable = true)\n",
      " |-- HC01_MOE_VC09: double (nullable = true)\n",
      " |-- HC02_EST_VC09: integer (nullable = true)\n",
      " |-- HC02_MOE_VC09: integer (nullable = true)\n",
      " |-- HC01_EST_VC10: double (nullable = true)\n",
      " |-- HC01_MOE_VC10: double (nullable = true)\n",
      " |-- HC02_EST_VC10: integer (nullable = true)\n",
      " |-- HC02_MOE_VC10: integer (nullable = true)\n",
      " |-- HC01_EST_VC12: double (nullable = true)\n",
      " |-- HC01_MOE_VC12: double (nullable = true)\n",
      " |-- HC02_EST_VC12: integer (nullable = true)\n",
      " |-- HC02_MOE_VC12: integer (nullable = true)\n",
      " |-- HC01_EST_VC13: double (nullable = true)\n",
      " |-- HC01_MOE_VC13: double (nullable = true)\n",
      " |-- HC02_EST_VC13: integer (nullable = true)\n",
      " |-- HC02_MOE_VC13: integer (nullable = true)\n",
      " |-- HC01_EST_VC16: double (nullable = true)\n",
      " |-- HC01_MOE_VC16: double (nullable = true)\n",
      " |-- HC02_EST_VC16: integer (nullable = true)\n",
      " |-- HC02_MOE_VC16: integer (nullable = true)\n",
      " |-- HC01_EST_VC17: double (nullable = true)\n",
      " |-- HC01_MOE_VC17: double (nullable = true)\n",
      " |-- HC02_EST_VC17: integer (nullable = true)\n",
      " |-- HC02_MOE_VC17: integer (nullable = true)\n",
      " |-- HC01_EST_VC18: double (nullable = true)\n",
      " |-- HC01_MOE_VC18: double (nullable = true)\n",
      " |-- HC02_EST_VC18: integer (nullable = true)\n",
      " |-- HC02_MOE_VC18: integer (nullable = true)\n",
      " |-- HC01_EST_VC19: double (nullable = true)\n",
      " |-- HC01_MOE_VC19: double (nullable = true)\n",
      " |-- HC02_EST_VC19: integer (nullable = true)\n",
      " |-- HC02_MOE_VC19: integer (nullable = true)\n",
      " |-- HC01_EST_VC22: integer (nullable = true)\n",
      " |-- HC01_MOE_VC22: integer (nullable = true)\n",
      " |-- HC02_EST_VC22: integer (nullable = true)\n",
      " |-- HC02_MOE_VC22: integer (nullable = true)\n",
      " |-- HC01_EST_VC23: double (nullable = true)\n",
      " |-- HC01_MOE_VC23: double (nullable = true)\n",
      " |-- HC02_EST_VC23: integer (nullable = true)\n",
      " |-- HC02_MOE_VC23: integer (nullable = true)\n",
      " |-- HC01_EST_VC24: double (nullable = true)\n",
      " |-- HC01_MOE_VC24: double (nullable = true)\n",
      " |-- HC02_EST_VC24: integer (nullable = true)\n",
      " |-- HC02_MOE_VC24: integer (nullable = true)\n",
      " |-- HC01_EST_VC25: double (nullable = true)\n",
      " |-- HC01_MOE_VC25: double (nullable = true)\n",
      " |-- HC02_EST_VC25: integer (nullable = true)\n",
      " |-- HC02_MOE_VC25: integer (nullable = true)\n",
      " |-- HC01_EST_VC26: double (nullable = true)\n",
      " |-- HC01_MOE_VC26: double (nullable = true)\n",
      " |-- HC02_EST_VC26: integer (nullable = true)\n",
      " |-- HC02_MOE_VC26: integer (nullable = true)\n",
      " |-- HC01_EST_VC27: double (nullable = true)\n",
      " |-- HC01_MOE_VC27: double (nullable = true)\n",
      " |-- HC02_EST_VC27: integer (nullable = true)\n",
      " |-- HC02_MOE_VC27: integer (nullable = true)\n",
      " |-- HC01_EST_VC30: integer (nullable = true)\n",
      " |-- HC01_MOE_VC30: integer (nullable = true)\n",
      " |-- HC02_EST_VC30: integer (nullable = true)\n",
      " |-- HC02_MOE_VC30: integer (nullable = true)\n",
      " |-- HC01_EST_VC31: double (nullable = true)\n",
      " |-- HC01_MOE_VC31: double (nullable = true)\n",
      " |-- HC02_EST_VC31: integer (nullable = true)\n",
      " |-- HC02_MOE_VC31: integer (nullable = true)\n",
      " |-- HC01_EST_VC32: double (nullable = true)\n",
      " |-- HC01_MOE_VC32: double (nullable = true)\n",
      " |-- HC02_EST_VC32: integer (nullable = true)\n",
      " |-- HC02_MOE_VC32: integer (nullable = true)\n",
      " |-- HC01_EST_VC33: double (nullable = true)\n",
      " |-- HC01_MOE_VC33: double (nullable = true)\n",
      " |-- HC02_EST_VC33: integer (nullable = true)\n",
      " |-- HC02_MOE_VC33: integer (nullable = true)\n",
      " |-- HC01_EST_VC34: double (nullable = true)\n",
      " |-- HC01_MOE_VC34: double (nullable = true)\n",
      " |-- HC02_EST_VC34: integer (nullable = true)\n",
      " |-- HC02_MOE_VC34: integer (nullable = true)\n",
      " |-- HC01_EST_VC35: double (nullable = true)\n",
      " |-- HC01_MOE_VC35: double (nullable = true)\n",
      " |-- HC02_EST_VC35: integer (nullable = true)\n",
      " |-- HC02_MOE_VC35: integer (nullable = true)\n",
      " |-- HC01_EST_VC36: double (nullable = true)\n",
      " |-- HC01_MOE_VC36: double (nullable = true)\n",
      " |-- HC02_EST_VC36: integer (nullable = true)\n",
      " |-- HC02_MOE_VC36: integer (nullable = true)\n",
      " |-- HC01_EST_VC39: double (nullable = true)\n",
      " |-- HC01_MOE_VC39: string (nullable = true)\n",
      " |-- HC02_EST_VC39: string (nullable = true)\n",
      " |-- HC02_MOE_VC39: string (nullable = true)\n",
      " |-- HC01_EST_VC40: double (nullable = true)\n",
      " |-- HC01_MOE_VC40: string (nullable = true)\n",
      " |-- HC02_EST_VC40: string (nullable = true)\n",
      " |-- HC02_MOE_VC40: string (nullable = true)\n",
      " |-- HC01_EST_VC41: double (nullable = true)\n",
      " |-- HC01_MOE_VC41: string (nullable = true)\n",
      " |-- HC02_EST_VC41: string (nullable = true)\n",
      " |-- HC02_MOE_VC41: string (nullable = true)\n",
      "\n"
     ]
    },
    {
     "data": {
      "text/plain": [
       "33120"
      ]
     },
     "execution_count": 16,
     "metadata": {},
     "output_type": "execute_result"
    }
   ],
   "source": [
    "dfIncomesRaw = spark.read.load(\"../rawdata/ACS_15_5YR_S1903/ACS_15_5YR_S1903b.csv\", format=\"csv\", delimiter=\",\", header=True, inferSchema=True)\n",
    "dfIncomesRaw.printSchema()\n",
    "dfIncomesRaw.count()"
   ]
  },
  {
   "cell_type": "code",
   "execution_count": 34,
   "metadata": {
    "collapsed": false
   },
   "outputs": [
    {
     "name": "stdout",
     "output_type": "stream",
     "text": [
      "root\n",
      " |-- z_id: long (nullable = true)\n",
      " |-- z_households: long (nullable = true)\n",
      " |-- z_med_inc: long (nullable = true)\n",
      "\n"
     ]
    }
   ],
   "source": [
    "\n",
    "dfIncomes = dfIncomesRaw.select('GEOid2','HC01_EST_VC02','HC02_EST_VC02')\\\n",
    "                            .withColumnRenamed('GEOid2','z_id')\\\n",
    "                            .withColumnRenamed('HC01_EST_VC02','z_households')\\\n",
    "                            .withColumnRenamed('HC02_EST_VC02', 'z_med_inc')\n",
    "dfIncomes = dfIncomes.select(dfIncomes.z_id.cast('long'),\\\n",
    "                             dfIncomes.z_households.cast('long'),\\\n",
    "                             dfIncomes.z_med_inc.cast('long'))\n",
    "dfIncomes.printSchema()"
   ]
  },
  {
   "cell_type": "code",
   "execution_count": 84,
   "metadata": {
    "collapsed": false
   },
   "outputs": [
    {
     "name": "stdout",
     "output_type": "stream",
     "text": [
      "+-----+--------------------+--------+------+--------+--------------------+\n",
      "| z_id|                name|   m_pop| z_pop|z_m_comm|    z_m_tot_miles_yr|\n",
      "+-----+--------------------+--------+------+--------+--------------------+\n",
      "|60629|Chicago, IL--IN U...| 8608208|113916|   27099|     1.98804198681E8|\n",
      "|11368|New York--Newark,...|18351295|109931|   26166|1.0573097098200001E8|\n",
      "|11226|New York--Newark,...|18351295|101572|   24096| 6.495845462400001E7|\n",
      "|79936|El Paso, TX--NM U...|  803086|111086|   23938|     1.07750036794E8|\n",
      "|11373|New York--Newark,...|18351295|100820|   23918|6.6076261447000004E7|\n",
      "|11385|New York--Newark,...|18351295| 98592|   23389| 5.726100827249999E7|\n",
      "|91331|Los Angeles--Long...|12150996|103689|   23280|      3.5724774468E8|\n",
      "|11220|New York--Newark,...|18351295| 99598|   23271|    1.125344021265E8|\n",
      "|  926|San Juan, PR Urba...| 2148346|108862|   23159|1.3812563730850002E8|\n",
      "|10467|New York--Newark,...|18351295| 97060|   22902|     1.89075442347E8|\n",
      "|10025|New York--Newark,...|18351295| 94600|   22442|     1.40710128132E8|\n",
      "|11208|New York--Newark,...|18351295| 94469|   22411|      8.7918958097E7|\n",
      "|11236|New York--Newark,...|18351295| 93877|   22271|     8.70237654675E7|\n",
      "|77084|Houston, TX Urban...| 4944332| 95137|   22227|    2.208137425275E8|\n",
      "|11207|New York--Newark,...|18351295| 93386|   22154| 6.330229682699999E7|\n",
      "|77449|Houston, TX Urban...| 4944332| 94382|   22050|2.7319577354999995E8|\n",
      "|60623|Chicago, IL--IN U...| 8608208| 92108|   21905|    1.406642827525E8|\n",
      "|60632|Chicago, IL--IN U...| 8608208| 91326|   21884|1.4086938698000002E8|\n",
      "|60618|Chicago, IL--IN U...| 8608208| 92084|   21765|    2.609889359475E8|\n",
      "|11219|New York--Newark,...|18351295| 92221|   21547|     1.17023803965E8|\n",
      "|60639|Chicago, IL--IN U...| 8608208| 90407|   21401|     1.91071808972E8|\n",
      "|11211|New York--Newark,...|18351295| 90117|   21379|     1.16968250325E7|\n",
      "|11377|New York--Newark,...|18351295| 89830|   21310| 5.252209639000001E7|\n",
      "|91342|Los Angeles--Long...|12150996| 91725|   21168|4.6272248870400006E8|\n",
      "|90250|Los Angeles--Long...|12150996| 93193|   21118|     2.15793216541E8|\n",
      "|10314|New York--Newark,...|18351295| 85510|   20965|    2.021928019125E8|\n",
      "|11234|New York--Newark,...|18351295| 87757|   20819|    1.512644729765E8|\n",
      "|91911|San Diego, CA Urb...| 2956746| 82999|   20749|    2.755133452335E8|\n",
      "|11214|New York--Newark,...|18351295| 88630|   20708|     1.50226362018E8|\n",
      "|60617|Chicago, IL--IN U...| 8608208| 84155|   20683|    2.762755820695E8|\n",
      "+-----+--------------------+--------+------+--------+--------------------+\n",
      "only showing top 30 rows\n",
      "\n"
     ]
    }
   ],
   "source": [
    "MAX_DDIST = 65\n",
    "COMM_PER = .25\n",
    "BUS_DAYS = 250\n",
    "\n",
    "dfFull=dfDist.join(dfIncomes,dfIncomes.z_id==dfDist.z_id).drop(dfIncomes.z_id).where(dfDist.ddist<MAX_DDIST)\n",
    "#print(dfFull.count())\n",
    "#print(dfFull.select(dfFull.z_id).distinct().count())\n",
    "\n",
    "dfCommuteTo = dfFull.groupBy(dfFull.z_id).agg({\"m_pop\":\"sum\"}).orderBy(dfFull.z_id)\\\n",
    "                .withColumnRenamed('sum(m_pop)','z_m_tot')\n",
    "\n",
    "dfFull2 = dfFull.join(dfCommuteTo,dfFull.z_id==dfCommuteTo.z_id).drop(dfCommuteTo.z_id)\n",
    "\n",
    "dfFull3 = dfFull2.withColumn('z_comm',(dfFull2.z_pop*COMM_PER).cast('long'))\\\n",
    "                .withColumn('z_m_comm',(dfFull2.z_pop*COMM_PER*dfFull2.m_pop/dfFull2.z_m_tot).cast('long'))\n",
    "\n",
    "#dfFull3.select('z_id','name','m_pop','z_pop','z_comm','z_m_comm').orderBy(dfFull3.z_m_comm.desc()).show(30)\n",
    "\n",
    "dfFull3 = dfFull3.withColumn('z_m_tot_miles_yr',dfFull3.ddist*2*BUS_DAYS*dfFull3.z_m_comm)\n",
    "#dfFull3.select('z_id','name','m_pop','z_pop','z_m_comm','z_m_tot_miles_yr').orderBy(dfFull3.z_m_comm.desc()).show(30)"
   ]
  },
  {
   "cell_type": "code",
   "execution_count": 85,
   "metadata": {
    "collapsed": false
   },
   "outputs": [
    {
     "name": "stdout",
     "output_type": "stream",
     "text": [
      "root\n",
      " |-- UATYPE: string (nullable = true)\n",
      " |-- ddist: double (nullable = true)\n",
      " |-- dist: double (nullable = true)\n",
      " |-- id: string (nullable = true)\n",
      " |-- m_house_unit: long (nullable = true)\n",
      " |-- m_id: long (nullable = true)\n",
      " |-- m_land: double (nullable = true)\n",
      " |-- m_lat_d: double (nullable = true)\n",
      " |-- m_lat_r: double (nullable = true)\n",
      " |-- m_long_d: double (nullable = true)\n",
      " |-- m_long_r: double (nullable = true)\n",
      " |-- m_pop: long (nullable = true)\n",
      " |-- m_water: double (nullable = true)\n",
      " |-- name: string (nullable = true)\n",
      " |-- z_house_unit: long (nullable = true)\n",
      " |-- z_land: double (nullable = true)\n",
      " |-- z_lat_d: double (nullable = true)\n",
      " |-- z_lat_r: double (nullable = true)\n",
      " |-- z_long_d: double (nullable = true)\n",
      " |-- z_long_r: double (nullable = true)\n",
      " |-- z_pop: long (nullable = true)\n",
      " |-- z_water: double (nullable = true)\n",
      " |-- z_households: long (nullable = true)\n",
      " |-- z_med_inc: long (nullable = true)\n",
      " |-- z_id: long (nullable = true)\n",
      " |-- z_m_tot: long (nullable = true)\n",
      " |-- z_comm: long (nullable = true)\n",
      " |-- z_m_comm: long (nullable = true)\n",
      " |-- z_m_tot_miles_yr: double (nullable = true)\n",
      "\n"
     ]
    }
   ],
   "source": [
    "dfFull3.printSchema()"
   ]
  },
  {
   "cell_type": "code",
   "execution_count": 97,
   "metadata": {
    "collapsed": false
   },
   "outputs": [],
   "source": [
    "# Normalize Data\n",
    "dfZData = dfFull3.select('z_id','z_lat_d','z_long_d','z_land','z_water','z_pop','z_households','z_comm','z_med_inc','z_house_unit')\\\n",
    "                    .distinct()\n",
    "dfTemp = dfFull3.groupBy('z_id').agg({'z_m_tot_miles_yr':'sum'})\n",
    "dfZData = dfZData.join(dfTemp,dfZData.z_id==dfTemp.z_id).drop(dfTemp.z_id).withColumnRenamed('sum(z_m_tot_miles_yr)','z_comm_miles')\n"
   ]
  },
  {
   "cell_type": "code",
   "execution_count": 108,
   "metadata": {
    "collapsed": false
   },
   "outputs": [
    {
     "name": "stdout",
     "output_type": "stream",
     "text": [
      "+---------+-----------+--------+-------+-----+------------+------+---------+------------+-----+--------------------+------------------+------------------+------------------+------------------+\n",
      "|  z_lat_d|   z_long_d|  z_land|z_water|z_pop|z_households|z_comm|z_med_inc|z_house_unit| z_id|        z_comm_miles|   z_comm_miles_ph|     z_carb_ton_ph|   z_comm_miles_pc|     z_carb_ton_pc|\n",
      "+---------+-----------+--------+-------+-----+------------+------+---------+------------+-----+--------------------+------------------+------------------+------------------+------------------+\n",
      "|42.233756| -78.804596|  75.396|  0.152| 2916|        1212|   729|    44063|        1567|14755|     2.36899269945E7|        32496.4705|13.495146417453274|       8124.117625|3.3737866043633185|\n",
      "|43.227851| -92.688793|  35.972|    0.0|  364|         102|    91|    54167|         146|50460|        2955680.4095|        32480.0045|13.488308410817758|       8120.001125|3.3720771027044396|\n",
      "|44.903514|-124.017859|    2.73|  1.819|  888|         368|   222|    40449|        1116|97388|   7207388.175000001|32465.712500000005|13.482373223714958| 8116.428125000001|3.3705933059287396|\n",
      "|44.503368| -70.961471| 209.233|   1.44|  444|         179|   111|    46250|        1557| 4261|        3603521.7045|        32464.1595|13.481728293294395|       8116.039875| 3.370432073323599|\n",
      "|41.271952|  -92.68193|   0.391|    0.0|  284|         113|    71|    35417|         134|52534|         2304911.198|32463.537999999997|13.481470196542057| 8115.884499999999|3.3703675491355143|\n",
      "|34.303262| -89.952316|  264.37|   7.71|16127|        5397|  4031|    41973|        6737|38606|    1.308692870875E8| 32459.67311651268|13.479865186282629|  8114.91827912817| 3.369966296570657|\n",
      "|39.194911|-107.698685|  557.92|   1.68| 1537|         481|   384|    50515|         788|81624|      1.2472321728E7| 32458.87242160052| 13.47953267340018|  8114.71810540013| 3.369883168350045|\n",
      "|33.932693| -87.774369| 144.469|  0.169| 7794|        3161|  1948|    35093|        3724|35594|       6.324320795E7|32457.381549910187|13.478913543647284| 8114.345387477547| 3.369728385911821|\n",
      "|46.231257| -93.831513|   25.63|  5.632| 1017|         463|   254|    36367|        1209|56450|   8252209.555999999|32457.068066863318|13.478783360290391| 8114.267016715829| 3.369695840072598|\n",
      "|38.109017| -98.096853|  65.028|  0.632| 1538|         551|   384|    42311|         671|67561|1.2478525440000001E7|32453.902314694413| 13.47746868554623| 8113.475578673603|3.3693671713865574|\n",
      "|44.809281|-124.051203|   7.315|  0.534| 2325|        1274|   581|    43438|        2190|97341|      1.8862940054E7|32452.369985376346|13.476832339254189| 8113.092496344087|3.3692080848135473|\n",
      "|36.304565| -84.419801|  98.642|    0.0| 2810|        1123|   702|    22052|        1226|37756|2.2779152720999997E7|32425.840172241988|13.465815028538065| 8106.460043060497|3.3664537571345163|\n",
      "|34.161996| -94.339512|  68.948|  0.389|  913|         352|   228|    39688|         434|71841|         7400907.474|32424.567246440307|13.465286407435283| 8106.141811610077|3.3663216018588207|\n",
      "|34.914806|-102.554528|1220.826|  1.946|19473|        6197|  4868|    43712|        7102|79045|     1.57820764456E8|32418.377128536948|13.462715772958314| 8104.594282134237|3.3656789432395784|\n",
      "|42.842866| -93.618635|  89.742|  0.186| 3032|        1361|   758|    42466|        1470|50421|      2.4563558879E7|32405.750500000002|13.457472181939256|8101.4376250000005| 3.364368045484814|\n",
      "|38.516107| -88.912193|  26.864|  0.036| 1034|         331|   258|    46953|         426|62853|         8375993.607|32402.296352030946|13.456037742079396|8100.5740880077365| 3.364009435519849|\n",
      "|31.694472| -93.270631| 233.727|  1.118| 2792|         992|   698|    47976|        1332|71469|2.2616394626999997E7|32401.711499999994|13.455794864509345|8100.4278749999985|3.3639487161273363|\n",
      "|40.110321| -98.509567|  152.92|  0.003| 1342|         641|   335|    34205|         773|68970|1.0869560749999998E7| 32398.09463487332|13.454292851407441|  8099.52365871833|3.3635732128518603|\n",
      "|36.625554| -78.344856| 108.464| 26.718| 3684|        1258|   921|    35341|        1890|23917|      2.9835967227E7|         32395.187|13.453085367710283|        8098.79675| 3.363271341927571|\n",
      "|38.565884| -91.244062|  90.291|  0.815| 4909|        1875|  1227|    56290|        2160|63068|      3.9753850302E7|  32392.6260354451|13.452021849392555| 8098.156508861275|3.3630054623481387|\n",
      "+---------+-----------+--------+-------+-----+------------+------+---------+------------+-----+--------------------+------------------+------------------+------------------+------------------+\n",
      "only showing top 20 rows\n",
      "\n"
     ]
    }
   ],
   "source": [
    "FUEL_ECON = 21.4 #MPG\n",
    "CARB_PER_GAL = 0.008887\n",
    "MILES2CARB = 1/FUEL_ECON*CARB_PER_GAL\n",
    "PERSONSPERHH = 4\n",
    "\n",
    "\n",
    "dfZData = dfZData.withColumn('z_comm_miles_ph',dfZData.z_comm_miles/dfZData.z_pop*PERSONSPERHH)\n",
    "dfZData = dfZData.withColumn('z_carb_ton_ph',dfZData.z_comm_miles_pc*MILES2CARB*PERSONSPERHH)\n",
    "dfZData.orderBy(dfZData.z_carb_ton_pc.desc()).show()"
   ]
  }
 ],
 "metadata": {
  "kernelspec": {
   "display_name": "Python 3",
   "language": "python",
   "name": "python3"
  },
  "language_info": {
   "codemirror_mode": {
    "name": "ipython",
    "version": 3
   },
   "file_extension": ".py",
   "mimetype": "text/x-python",
   "name": "python",
   "nbconvert_exporter": "python",
   "pygments_lexer": "ipython3",
   "version": "3.5.2"
  }
 },
 "nbformat": 4,
 "nbformat_minor": 1
}
